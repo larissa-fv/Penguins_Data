{
 "cells": [
  {
   "cell_type": "markdown",
   "id": "4c444a42-973c-48c4-9c52-9d0a84527423",
   "metadata": {},
   "source": [
    "# Análise do Dataset Penguins pelo Seaborn\n",
    "\n",
    "Esta análise tem como objetivo o aprofundamento e a exploração inicial (análise exploratória) do dataset Penguins, disponível na biblioteca Python Seaborn.\n",
    "\n",
    "Para facilitar a compreensão, os nomes das colunas foram convertidos para o português (PT-BR).\n",
    "\n",
    "| Coluna              | Tipo    | Descrição                                      |\n",
    "| ------------------- | ------- | ---------------------------------------------- |\n",
    "| `species`           | object  | Espécie do pinguim (Adelie, Chinstrap, Gentoo) |\n",
    "| `island`            | object  | Ilha onde o pinguim foi observado              |\n",
    "| `bill_length_mm`    | float64 | Comprimento do bico em mm                      |\n",
    "| `bill_depth_mm`     | float64 | Profundidade do bico em mm                     |\n",
    "| `flipper_length_mm` | float64 | Comprimento da nadadeira em mm                 |\n",
    "| `body_mass_g`       | float64 | Peso do pinguim em gramas                      |\n",
    "| `sex`               | object  | Sexo biológico (Male/Female)                   |\n",
    "\n",
    "\n"
   ]
  },
  {
   "cell_type": "code",
   "execution_count": 106,
   "id": "d3ef080d-971e-4735-a594-502cd5de7c7a",
   "metadata": {},
   "outputs": [],
   "source": [
    "# Importando bibliotecas\n",
    "import pandas as pd\n",
    "import seaborn as sns\n",
    "import matplotlib.pyplot as plt\n",
    "import plotly.express as px\n",
    "import statsmodels.api as sm\n",
    "\n",
    "# Configuração de estilo do Seaborn\n",
    "sns.set(style=\"whitegrid\")"
   ]
  },
  {
   "cell_type": "code",
   "execution_count": null,
   "id": "528dcc8f-83e1-4bf2-999b-cc9729e26ac8",
   "metadata": {},
   "outputs": [],
   "source": []
  },
  {
   "cell_type": "code",
   "execution_count": 107,
   "id": "c344448f-5780-4a34-bd30-dba474785204",
   "metadata": {},
   "outputs": [
    {
     "name": "stdout",
     "output_type": "stream",
     "text": [
      "<class 'pandas.core.frame.DataFrame'>\n",
      "Index: 333 entries, 0 to 343\n",
      "Data columns (total 7 columns):\n",
      " #   Column             Non-Null Count  Dtype  \n",
      "---  ------             --------------  -----  \n",
      " 0   species            333 non-null    object \n",
      " 1   island             333 non-null    object \n",
      " 2   bill_length_mm     333 non-null    float64\n",
      " 3   bill_depth_mm      333 non-null    float64\n",
      " 4   flipper_length_mm  333 non-null    float64\n",
      " 5   body_mass_g        333 non-null    float64\n",
      " 6   sex                333 non-null    object \n",
      "dtypes: float64(4), object(3)\n",
      "memory usage: 20.8+ KB\n"
     ]
    }
   ],
   "source": [
    "# Informçoes sobre as colunas e dataset\n",
    "\n",
    "penguins.info()"
   ]
  },
  {
   "cell_type": "code",
   "execution_count": 108,
   "id": "d9a65f2a-2ca6-4b50-9447-02df082c8692",
   "metadata": {},
   "outputs": [
    {
     "data": {
      "text/html": [
       "<div>\n",
       "<style scoped>\n",
       "    .dataframe tbody tr th:only-of-type {\n",
       "        vertical-align: middle;\n",
       "    }\n",
       "\n",
       "    .dataframe tbody tr th {\n",
       "        vertical-align: top;\n",
       "    }\n",
       "\n",
       "    .dataframe thead th {\n",
       "        text-align: right;\n",
       "    }\n",
       "</style>\n",
       "<table border=\"1\" class=\"dataframe\">\n",
       "  <thead>\n",
       "    <tr style=\"text-align: right;\">\n",
       "      <th></th>\n",
       "      <th>species</th>\n",
       "      <th>island</th>\n",
       "      <th>bill_length_mm</th>\n",
       "      <th>bill_depth_mm</th>\n",
       "      <th>flipper_length_mm</th>\n",
       "      <th>body_mass_g</th>\n",
       "      <th>sex</th>\n",
       "    </tr>\n",
       "  </thead>\n",
       "  <tbody>\n",
       "    <tr>\n",
       "      <th>0</th>\n",
       "      <td>Adelie</td>\n",
       "      <td>Torgersen</td>\n",
       "      <td>39.1</td>\n",
       "      <td>18.7</td>\n",
       "      <td>181.0</td>\n",
       "      <td>3750.0</td>\n",
       "      <td>Male</td>\n",
       "    </tr>\n",
       "    <tr>\n",
       "      <th>1</th>\n",
       "      <td>Adelie</td>\n",
       "      <td>Torgersen</td>\n",
       "      <td>39.5</td>\n",
       "      <td>17.4</td>\n",
       "      <td>186.0</td>\n",
       "      <td>3800.0</td>\n",
       "      <td>Female</td>\n",
       "    </tr>\n",
       "    <tr>\n",
       "      <th>2</th>\n",
       "      <td>Adelie</td>\n",
       "      <td>Torgersen</td>\n",
       "      <td>40.3</td>\n",
       "      <td>18.0</td>\n",
       "      <td>195.0</td>\n",
       "      <td>3250.0</td>\n",
       "      <td>Female</td>\n",
       "    </tr>\n",
       "    <tr>\n",
       "      <th>3</th>\n",
       "      <td>Adelie</td>\n",
       "      <td>Torgersen</td>\n",
       "      <td>NaN</td>\n",
       "      <td>NaN</td>\n",
       "      <td>NaN</td>\n",
       "      <td>NaN</td>\n",
       "      <td>NaN</td>\n",
       "    </tr>\n",
       "    <tr>\n",
       "      <th>4</th>\n",
       "      <td>Adelie</td>\n",
       "      <td>Torgersen</td>\n",
       "      <td>36.7</td>\n",
       "      <td>19.3</td>\n",
       "      <td>193.0</td>\n",
       "      <td>3450.0</td>\n",
       "      <td>Female</td>\n",
       "    </tr>\n",
       "  </tbody>\n",
       "</table>\n",
       "</div>"
      ],
      "text/plain": [
       "  species     island  bill_length_mm  bill_depth_mm  flipper_length_mm  \\\n",
       "0  Adelie  Torgersen            39.1           18.7              181.0   \n",
       "1  Adelie  Torgersen            39.5           17.4              186.0   \n",
       "2  Adelie  Torgersen            40.3           18.0              195.0   \n",
       "3  Adelie  Torgersen             NaN            NaN                NaN   \n",
       "4  Adelie  Torgersen            36.7           19.3              193.0   \n",
       "\n",
       "   body_mass_g     sex  \n",
       "0       3750.0    Male  \n",
       "1       3800.0  Female  \n",
       "2       3250.0  Female  \n",
       "3          NaN     NaN  \n",
       "4       3450.0  Female  "
      ]
     },
     "execution_count": 108,
     "metadata": {},
     "output_type": "execute_result"
    }
   ],
   "source": [
    "# Carregando dataset Penguins do Seaborn\n",
    "penguins = sns.load_dataset(\"penguins\")\n",
    "\n",
    "# Visualizando as primeiras linhas\n",
    "penguins.head()\n"
   ]
  },
  {
   "cell_type": "code",
   "execution_count": null,
   "id": "66c0b393-5c30-4eac-9ef2-ff6f15a9679d",
   "metadata": {},
   "outputs": [],
   "source": []
  },
  {
   "cell_type": "markdown",
   "id": "1c72eb7d-7184-4d8b-b301-34631751cf81",
   "metadata": {},
   "source": [
    "## Explorando os DADOS - Penguins Dataset\n"
   ]
  },
  {
   "cell_type": "code",
   "execution_count": 109,
   "id": "665337fe-4f60-41f7-bf1c-251819c083e7",
   "metadata": {},
   "outputs": [
    {
     "data": {
      "text/html": [
       "<div>\n",
       "<style scoped>\n",
       "    .dataframe tbody tr th:only-of-type {\n",
       "        vertical-align: middle;\n",
       "    }\n",
       "\n",
       "    .dataframe tbody tr th {\n",
       "        vertical-align: top;\n",
       "    }\n",
       "\n",
       "    .dataframe thead th {\n",
       "        text-align: right;\n",
       "    }\n",
       "</style>\n",
       "<table border=\"1\" class=\"dataframe\">\n",
       "  <thead>\n",
       "    <tr style=\"text-align: right;\">\n",
       "      <th></th>\n",
       "      <th>species</th>\n",
       "      <th>island</th>\n",
       "      <th>bill_length_mm</th>\n",
       "      <th>bill_depth_mm</th>\n",
       "      <th>flipper_length_mm</th>\n",
       "      <th>body_mass_g</th>\n",
       "      <th>sex</th>\n",
       "    </tr>\n",
       "  </thead>\n",
       "  <tbody>\n",
       "    <tr>\n",
       "      <th>count</th>\n",
       "      <td>344</td>\n",
       "      <td>344</td>\n",
       "      <td>342.000000</td>\n",
       "      <td>342.000000</td>\n",
       "      <td>342.000000</td>\n",
       "      <td>342.000000</td>\n",
       "      <td>333</td>\n",
       "    </tr>\n",
       "    <tr>\n",
       "      <th>unique</th>\n",
       "      <td>3</td>\n",
       "      <td>3</td>\n",
       "      <td>NaN</td>\n",
       "      <td>NaN</td>\n",
       "      <td>NaN</td>\n",
       "      <td>NaN</td>\n",
       "      <td>2</td>\n",
       "    </tr>\n",
       "    <tr>\n",
       "      <th>top</th>\n",
       "      <td>Adelie</td>\n",
       "      <td>Biscoe</td>\n",
       "      <td>NaN</td>\n",
       "      <td>NaN</td>\n",
       "      <td>NaN</td>\n",
       "      <td>NaN</td>\n",
       "      <td>Male</td>\n",
       "    </tr>\n",
       "    <tr>\n",
       "      <th>freq</th>\n",
       "      <td>152</td>\n",
       "      <td>168</td>\n",
       "      <td>NaN</td>\n",
       "      <td>NaN</td>\n",
       "      <td>NaN</td>\n",
       "      <td>NaN</td>\n",
       "      <td>168</td>\n",
       "    </tr>\n",
       "    <tr>\n",
       "      <th>mean</th>\n",
       "      <td>NaN</td>\n",
       "      <td>NaN</td>\n",
       "      <td>43.921930</td>\n",
       "      <td>17.151170</td>\n",
       "      <td>200.915205</td>\n",
       "      <td>4201.754386</td>\n",
       "      <td>NaN</td>\n",
       "    </tr>\n",
       "    <tr>\n",
       "      <th>std</th>\n",
       "      <td>NaN</td>\n",
       "      <td>NaN</td>\n",
       "      <td>5.459584</td>\n",
       "      <td>1.974793</td>\n",
       "      <td>14.061714</td>\n",
       "      <td>801.954536</td>\n",
       "      <td>NaN</td>\n",
       "    </tr>\n",
       "    <tr>\n",
       "      <th>min</th>\n",
       "      <td>NaN</td>\n",
       "      <td>NaN</td>\n",
       "      <td>32.100000</td>\n",
       "      <td>13.100000</td>\n",
       "      <td>172.000000</td>\n",
       "      <td>2700.000000</td>\n",
       "      <td>NaN</td>\n",
       "    </tr>\n",
       "    <tr>\n",
       "      <th>25%</th>\n",
       "      <td>NaN</td>\n",
       "      <td>NaN</td>\n",
       "      <td>39.225000</td>\n",
       "      <td>15.600000</td>\n",
       "      <td>190.000000</td>\n",
       "      <td>3550.000000</td>\n",
       "      <td>NaN</td>\n",
       "    </tr>\n",
       "    <tr>\n",
       "      <th>50%</th>\n",
       "      <td>NaN</td>\n",
       "      <td>NaN</td>\n",
       "      <td>44.450000</td>\n",
       "      <td>17.300000</td>\n",
       "      <td>197.000000</td>\n",
       "      <td>4050.000000</td>\n",
       "      <td>NaN</td>\n",
       "    </tr>\n",
       "    <tr>\n",
       "      <th>75%</th>\n",
       "      <td>NaN</td>\n",
       "      <td>NaN</td>\n",
       "      <td>48.500000</td>\n",
       "      <td>18.700000</td>\n",
       "      <td>213.000000</td>\n",
       "      <td>4750.000000</td>\n",
       "      <td>NaN</td>\n",
       "    </tr>\n",
       "    <tr>\n",
       "      <th>max</th>\n",
       "      <td>NaN</td>\n",
       "      <td>NaN</td>\n",
       "      <td>59.600000</td>\n",
       "      <td>21.500000</td>\n",
       "      <td>231.000000</td>\n",
       "      <td>6300.000000</td>\n",
       "      <td>NaN</td>\n",
       "    </tr>\n",
       "  </tbody>\n",
       "</table>\n",
       "</div>"
      ],
      "text/plain": [
       "       species  island  bill_length_mm  bill_depth_mm  flipper_length_mm  \\\n",
       "count      344     344      342.000000     342.000000         342.000000   \n",
       "unique       3       3             NaN            NaN                NaN   \n",
       "top     Adelie  Biscoe             NaN            NaN                NaN   \n",
       "freq       152     168             NaN            NaN                NaN   \n",
       "mean       NaN     NaN       43.921930      17.151170         200.915205   \n",
       "std        NaN     NaN        5.459584       1.974793          14.061714   \n",
       "min        NaN     NaN       32.100000      13.100000         172.000000   \n",
       "25%        NaN     NaN       39.225000      15.600000         190.000000   \n",
       "50%        NaN     NaN       44.450000      17.300000         197.000000   \n",
       "75%        NaN     NaN       48.500000      18.700000         213.000000   \n",
       "max        NaN     NaN       59.600000      21.500000         231.000000   \n",
       "\n",
       "        body_mass_g   sex  \n",
       "count    342.000000   333  \n",
       "unique          NaN     2  \n",
       "top             NaN  Male  \n",
       "freq            NaN   168  \n",
       "mean    4201.754386   NaN  \n",
       "std      801.954536   NaN  \n",
       "min     2700.000000   NaN  \n",
       "25%     3550.000000   NaN  \n",
       "50%     4050.000000   NaN  \n",
       "75%     4750.000000   NaN  \n",
       "max     6300.000000   NaN  "
      ]
     },
     "execution_count": 109,
     "metadata": {},
     "output_type": "execute_result"
    }
   ],
   "source": [
    "# explore data\n",
    "\n",
    "penguins.describe(include='all')\n",
    " "
   ]
  },
  {
   "cell_type": "code",
   "execution_count": null,
   "id": "46c76fac-fe6e-4c88-9358-25e6eb3449a2",
   "metadata": {},
   "outputs": [],
   "source": []
  },
  {
   "cell_type": "markdown",
   "id": "17e9e585-3fc1-4a59-9836-2619ecbd7ace",
   "metadata": {},
   "source": [
    "Alterando o nome das colunas"
   ]
  },
  {
   "cell_type": "code",
   "execution_count": 110,
   "id": "8c931c26-bc06-4dd6-b971-45d6015c0b1f",
   "metadata": {},
   "outputs": [],
   "source": [
    "penguins.rename(columns={\n",
    "    'species': 'especie',\n",
    "    'island': 'ilha',\n",
    "    'bill_length_mm': 'comprimento_bico_mm',\n",
    "    'bill_depth_mm': 'profundidade_bico_mm',\n",
    "    'flipper_length_mm': 'nadadeira_mm',\n",
    "    'body_mass_g': 'peso_g',\n",
    "    'sex': 'sexo'\n",
    "}, inplace=True)\n"
   ]
  },
  {
   "cell_type": "code",
   "execution_count": null,
   "id": "4fcbab6a-27f0-43b9-ab8f-98c19ad4ebbc",
   "metadata": {},
   "outputs": [],
   "source": []
  },
  {
   "cell_type": "code",
   "execution_count": 111,
   "id": "c4b83c11-4f0c-4d96-993c-7d325105f2b0",
   "metadata": {},
   "outputs": [
    {
     "name": "stdout",
     "output_type": "stream",
     "text": [
      "especie\n",
      "Adelie       152\n",
      "Gentoo       124\n",
      "Chinstrap     68\n",
      "Name: count, dtype: int64\n",
      "ilha\n",
      "Biscoe       168\n",
      "Dream        124\n",
      "Torgersen     52\n",
      "Name: count, dtype: int64\n",
      "sexo\n",
      "Male      168\n",
      "Female    165\n",
      "Name: count, dtype: int64\n"
     ]
    }
   ],
   "source": [
    "#count category \n",
    "print(penguins['especie'].value_counts())\n",
    "print(penguins['ilha'].value_counts())\n",
    "print(penguins['sexo'].value_counts())\n"
   ]
  },
  {
   "cell_type": "code",
   "execution_count": 112,
   "id": "c7910e08-dca3-4d37-a74e-5ba44c5224f9",
   "metadata": {},
   "outputs": [
    {
     "name": "stdout",
     "output_type": "stream",
     "text": [
      "especie                  0\n",
      "ilha                     0\n",
      "comprimento_bico_mm      2\n",
      "profundidade_bico_mm     2\n",
      "nadadeira_mm             2\n",
      "peso_g                   2\n",
      "sexo                    11\n",
      "dtype: int64\n"
     ]
    }
   ],
   "source": [
    "#values null\n",
    "# Contar valores nulos por coluna\n",
    "print(penguins.isnull().sum())\n"
   ]
  },
  {
   "cell_type": "markdown",
   "id": "97ad18c2-685e-4172-aed1-2290e8ca2ca2",
   "metadata": {},
   "source": [
    "## Visualização por dados\n"
   ]
  },
  {
   "cell_type": "markdown",
   "id": "4f84b0c3-3a7d-468c-a484-3c8bb449d367",
   "metadata": {},
   "source": [
    "Analise das especies de peguins "
   ]
  },
  {
   "cell_type": "code",
   "execution_count": 113,
   "id": "5ba1c33c-01ae-492c-acfe-a10f56b4075e",
   "metadata": {},
   "outputs": [
    {
     "data": {
      "image/png": "[encoded data removed]",
      "text/plain": [
       "<Figure size 640x480 with 1 Axes>"
      ]
     },
     "metadata": {},
     "output_type": "display_data"
    }
   ],
   "source": [
    "\n",
    "\n",
    "\n",
    "# Gráfico de pizza\n",
    "especie.plot(kind='pie',\n",
    "             autopct=\"%.2f%%\",\n",
    "             startangle=90,\n",
    "             colors=['#FF9999','#66B2FF','#99FF99'])  # cores opcionais\n",
    "plt.ylabel('')  # remove o label do eixo y\n",
    "plt.title(\"Distribuição de Espécies de Pinguins\")\n",
    "plt.show()\n"
   ]
  },
  {
   "cell_type": "markdown",
   "id": "00e18656-d9db-479a-a024-7b71d2a72942",
   "metadata": {},
   "source": [
    "Analise por sexo"
   ]
  },
  {
   "cell_type": "code",
   "execution_count": 114,
   "id": "e16e8efa-2541-4c4f-b471-1abb18ff0b0c",
   "metadata": {},
   "outputs": [
    {
     "data": {
      "image/png": "[encoded data removed]",
      "text/plain": [
       "<Figure size 640x480 with 1 Axes>"
      ]
     },
     "metadata": {},
     "output_type": "display_data"
    }
   ],
   "source": [
    "sexo.index = ['Masculino', 'Feminino']\n",
    "\n",
    "\n",
    "# Gráfico de pizza\n",
    "sexo.plot(kind='pie',\n",
    "          autopct=\"%.2f%%\",\n",
    "          startangle=90,\n",
    "          colors=['#66B2FF', '#FF9999'],  # cores opcionais\n",
    "          explode=[0.05, 0.05])  # destaque das fatias\n",
    "plt.ylabel('')  # remove o label do eixo y\n",
    "plt.title(\"Distribuição de Sexo dos Pinguins\")\n",
    "plt.show()"
   ]
  },
  {
   "cell_type": "code",
   "execution_count": 115,
   "id": "fbd009c2-989f-4692-92aa-a0b50673e0c9",
   "metadata": {},
   "outputs": [
    {
     "data": {
      "text/plain": [
       "count\n",
       "168    1\n",
       "165    1\n",
       "Name: count, dtype: int64"
      ]
     },
     "execution_count": 115,
     "metadata": {},
     "output_type": "execute_result"
    }
   ],
   "source": [
    "\n",
    "sexo.value_counts()\n"
   ]
  },
  {
   "cell_type": "markdown",
   "id": "089e9743-4e41-4f95-836f-18463c678cc3",
   "metadata": {
    "jp-MarkdownHeadingCollapsed": true
   },
   "source": [
    "#### Análise da Profundidade do Bico por Espécie e Sexo\n",
    "\n",
    "A profundidade do bico nos pinguins é uma característica morfológica relevante, podendo influenciar hábitos alimentares e estratégias de captura de presas. Diferenças nessa medida podem refletir tanto variações adaptativas entre espécies quanto dimorfismo sexual.\n",
    "\n",
    "Nesta análise, utilizou-se um boxplot para comparar a distribuição da profundidade do bico (em milímetros) entre as espécies Adelie, Chinstrap e Gentoo, segmentando os dados por sexo biológico. Essa abordagem permite identificar não apenas diferenças centrais (mediana), mas também a dispersão dos valores e possíveis outliers."
   ]
  },
  {
   "cell_type": "code",
   "execution_count": 116,
   "id": "cb3cb4f5-e0b4-43e3-a3a3-32816cf9edd2",
   "metadata": {},
   "outputs": [
    {
     "data": {
      "image/png": "[encoded data removed]",
      "text/plain": [
       "<Figure size 800x500 with 1 Axes>"
      ]
     },
     "metadata": {},
     "output_type": "display_data"
    }
   ],
   "source": [
    "# Utilizando Boxplot\n",
    "plt.figure(figsize=(8,5))\n",
    "\n",
    "sns.boxplot(\n",
    "    data=penguins,\n",
    "    x=\"especie\",\n",
    "    y=\"profundidade_bico_mm\",\n",
    "    hue=\"sexo\"\n",
    ")\n",
    "\n",
    "# Ajustando títulos dos eixos\n",
    "plt.xlabel(\"Espécie\")\n",
    "plt.ylabel(\"Profundidade do bico (mm)\")\n",
    "plt.title(\"Tamanho do bico por espécie e sexo\")\n",
    "\n",
    "plt.show()\n"
   ]
  },
  {
   "cell_type": "markdown",
   "id": "adf781c8-2177-4a30-bcb4-36e94f04c909",
   "metadata": {},
   "source": [
    "Observa-se que, em todas as espécies analisadas, os pinguins do sexo masculino tendem a apresentar profundidade do bico superior à das fêmeas. Esse padrão sugere a presença de dimorfismo sexual, possivelmente relacionado a diferenças na dieta, no comportamento de forrageamento ou em pressões seletivas específicas de cada espécie."
   ]
  },
  {
   "cell_type": "markdown",
   "id": "d51f1579-5482-44e6-81c3-285a16c0e905",
   "metadata": {},
   "source": []
  },
  {
   "cell_type": "markdown",
   "id": "96df2de2-1c57-413b-be5d-9e8f0c45ecae",
   "metadata": {},
   "source": [
    "####   Relação entre Nadadeira e Peso\n",
    "\n",
    "O comprimento da nadadeira é um importante indicador morfológico em pinguins, frequentemente associado à adaptação ao meio aquático e ao desempenho na natação. A massa corporal, por sua vez, está relacionada à condição física e ao porte do animal.\n",
    "\n",
    "Nesta análise, foi elaborado um gráfico de dispersão que correlaciona essas duas variáveis, considerando a diferenciação por espécie e sexo biológico. O objetivo é verificar padrões de associação, diferenças morfológicas entre espécies e possíveis variações relacionadas ao sexo."
   ]
  },
  {
   "cell_type": "code",
   "execution_count": 117,
   "id": "23968d2a-6e59-42b0-bc10-161b923f2d6f",
   "metadata": {},
   "outputs": [
    {
     "data": {
      "application/vnd.plotly.v1+json": {
       "config": {
        "plotlyServerURL": "https://plot.ly"
       },
       "data": [
        {
         "hovertemplate": "especie=Adelie<br>sexo=Male<br>Tamanho da nadadeira (mm)=%{x}<br>Peso (g)=%{y}<extra></extra>",
         "legendgroup": "Adelie, Male",
         "marker": {
          "color": "#636efa",
          "symbol": "circle"
         },
         "mode": "markers",
         "name": "Adelie, Male",
         "orientation": "v",
         "showlegend": true,
         "type": "scatter",
         "x": {
          "bdata": "AAAAAACgZkAAAAAAAMBnQAAAAAAAYGhAAAAAAADgZ0AAAAAAAMBoQAAAAAAAoGhAAAAAAABAaEAAAAAAAIBmQAAAAAAAIGdAAAAAAACAZkAAAAAAAOBmQAAAAAAAgGZAAAAAAABAZkAAAAAAAABnQAAAAAAAgGhAAAAAAADAZ0AAAAAAAABnQAAAAAAAYGhAAAAAAACAaEAAAAAAAMBnQAAAAAAAwGZAAAAAAADgZ0AAAAAAAIBnQAAAAAAAAGlAAAAAAADgZ0AAAAAAACBoQAAAAAAAQGhAAAAAAABgaEAAAAAAAABoQAAAAAAAAGhAAAAAAACAZ0AAAAAAAMBoQAAAAAAAwGdAAAAAAACgaEAAAAAAAGBoQAAAAAAAAGdAAAAAAABgaEAAAAAAAIBoQAAAAAAAIGhAAAAAAABAaEAAAAAAAMBnQAAAAAAAoGdAAAAAAACgaUAAAAAAAEBnQAAAAAAAAGpAAAAAAACAaEAAAAAAAABoQAAAAAAAYGlAAAAAAADAZ0AAAAAAAABnQAAAAAAAwGdAAAAAAACgaEAAAAAAAOBnQAAAAAAAoGhAAAAAAACAaEAAAAAAAOBoQAAAAAAAoGdAAAAAAADAaEAAAAAAAEBpQAAAAAAA4GhAAAAAAABgaEAAAAAAAEBqQAAAAAAAoGhAAAAAAADgaEAAAAAAAMBnQAAAAAAAAGlAAAAAAAAgaEAAAAAAAGBnQAAAAAAAwGdAAAAAAAAgZ0AAAAAAAMBnQAAAAAAAIGhAAAAAAAAgaUA=",
          "dtype": "f8"
         },
         "xaxis": "x",
         "y": {
          "bdata": "AAAAAABMrUAAAAAAAISsQAAAAAAAQ7JAAAAAAACwrUAAAAAAADCxQAAAAAAAlLFAAAAAAABosEAAAAAAACCsQAAAAAAA3K5AAAAAAACwrUAAAAAAALyrQAAAAAAA3K5AAAAAAAB4rkAAAAAAAHiuQAAAAAAANrBAAAAAAADcrkAAAAAAACqyQAAAAAAAeK5AAAAAAAAwsUAAAAAAAPixQAAAAAAAwqpAAAAAAAA2sEAAAAAAAMywQAAAAAAApK9AAAAAAADorEAAAAAAALCtQAAAAAAATK1AAAAAAAAwsUAAAAAAAKSvQAAAAAAA3K5AAAAAAAAEsEAAAAAAAGKxQAAAAAAAeK5AAAAAAAA2sEAAAAAAAJqwQAAAAAAAeK5AAAAAAABAr0AAAAAAAFyyQAAAAAAAaLBAAAAAAAC8q0AAAAAAALCtQAAAAAAA3K5AAAAAAADMsEAAAAAAAGKxQAAAAAAAzLBAAAAAAAD+sEAAAAAAAASwQAAAAAAAdbJAAAAAAACasEAAAAAAALyrQAAAAAAAeK5AAAAAAACnskAAAAAAAPixQAAAAAAAs7BAAAAAAADWr0AAAAAAAH6tQAAAAAAA+qlAAAAAAABYq0AAAAAAAEauQAAAAAAAQK9AAAAAAADMsEAAAAAAAECvQAAAAAAAWKtAAAAAAAB7sUAAAAAAAHiuQAAAAAAADq9AAAAAAACasEAAAAAAACarQAAAAAAAGq1AAAAAAACErEAAAAAAAJqwQAAAAAAATK1AAAAAAABAr0A=",
          "dtype": "f8"
         },
         "yaxis": "y"
        },
        {
         "hovertemplate": "especie=Adelie<br>sexo=Female<br>Tamanho da nadadeira (mm)=%{x}<br>Peso (g)=%{y}<extra></extra>",
         "legendgroup": "Adelie, Female",
         "marker": {
          "color": "#636efa",
          "symbol": "diamond"
         },
         "mode": "markers",
         "name": "Adelie, Female",
         "orientation": "v",
         "showlegend": true,
         "type": "scatter",
         "x": {
          "bdata": "AAAAAABAZ0AAAAAAAGBoQAAAAAAAIGhAAAAAAACgZkAAAAAAAMBmQAAAAAAAIGdAAAAAAABgaEAAAAAAAABnQAAAAAAAwGVAAAAAAACgZ0AAAAAAAGBnQAAAAAAAYGdAAAAAAACAZUAAAAAAAEBmQAAAAAAAgGdAAAAAAABgaEAAAAAAAIBmQAAAAAAAoGZAAAAAAADAZkAAAAAAAEBnQAAAAAAAIGdAAAAAAADAZ0AAAAAAAEBnQAAAAAAAwGdAAAAAAABgZ0AAAAAAAEBnQAAAAAAAoGZAAAAAAAAgZ0AAAAAAACBnQAAAAAAAAGdAAAAAAABgaEAAAAAAAMBnQAAAAAAAwGdAAAAAAACAaEAAAAAAAMBnQAAAAAAA4GdAAAAAAABgZ0AAAAAAAKBnQAAAAAAAYGdAAAAAAADgZ0AAAAAAAKBnQAAAAAAAwGdAAAAAAABAaUAAAAAAACBnQAAAAAAAYGdAAAAAAADAZ0AAAAAAAEBmQAAAAAAAAGhAAAAAAADgZkAAAAAAACBoQAAAAAAA4GhAAAAAAACgZkAAAAAAAMBoQAAAAAAAIGhAAAAAAADgZ0AAAAAAAIBnQAAAAAAAoGdAAAAAAABgZ0AAAAAAAABmQAAAAAAAQGdAAAAAAADgZ0AAAAAAAOBnQAAAAAAAwGdAAAAAAAAgaEAAAAAAAGBnQAAAAAAA4GdAAAAAAAAgZ0AAAAAAACBoQAAAAAAAgGdAAAAAAAAAaEAAAAAAAABnQAAAAAAAYGhAAAAAAABgZ0A=",
          "dtype": "f8"
         },
         "xaxis": "x",
         "y": {
          "bdata": "AAAAAACwrUAAAAAAAGSpQAAAAAAA9KpAAAAAAABSrEAAAAAAAACpQAAAAAAA6KxAAAAAAAD0qkAAAAAAAPqpQAAAAAAAkKpAAAAAAACwrUAAAAAAALCtQAAAAAAAAKlAAAAAAACcqEAAAAAAAGSpQAAAAAAAyKlAAAAAAAD6qUAAAAAAALyrQAAAAAAAyKlAAAAAAACcqEAAAAAAADioQAAAAAAAcKdAAAAAAAD0qkAAAAAAAFirQAAAAAAA9KpAAAAAAACopkAAAAAAALyrQAAAAAAARKZAAAAAAACcqEAAAAAAACCsQAAAAAAARKZAAAAAAAAsqkAAAAAAANSnQAAAAAAAIKxAAAAAAAC8q0AAAAAAAOisQAAAAAAA6KxAAAAAAAC8q0AAAAAAAACpQAAAAAAAsK1AAAAAAAAsqkAAAAAAAFirQAAAAAAAIKxAAAAAAAC8q0AAAAAAAJCqQAAAAAAAyKlAAAAAAADorEAAAAAAAKimQAAAAAAAGq1AAAAAAAAGqEAAAAAAANqmQAAAAAAATK1AAAAAAADOqEAAAAAAAOKtQAAAAAAAAKlAAAAAAAB4rkAAAAAAAKimQAAAAAAALKpAAAAAAACcqEAAAAAAAPSqQAAAAAAA1KdAAAAAAACWqUAAAAAAANSnQAAAAAAA+qlAAAAAAABYq0AAAAAAAMKqQAAAAAAAzqhAAAAAAACQqkAAAAAAAJCqQAAAAAAA1KdAAAAAAABwp0AAAAAAACarQAAAAAAA9KpAAAAAAADorEA=",
          "dtype": "f8"
         },
         "yaxis": "y"
        },
        {
         "hovertemplate": "especie=Chinstrap<br>sexo=Male<br>Tamanho da nadadeira (mm)=%{x}<br>Peso (g)=%{y}<extra></extra>",
         "legendgroup": "Chinstrap, Male",
         "marker": {
          "color": "#EF553B",
          "symbol": "circle"
         },
         "mode": "markers",
         "name": "Chinstrap, Male",
         "orientation": "v",
         "showlegend": true,
         "type": "scatter",
         "x": {
          "bdata": "AAAAAACAaEAAAAAAACBoQAAAAAAAoGhAAAAAAACgaEAAAAAAAMBoQAAAAAAAQGhAAAAAAAAgaUAAAAAAACBpQAAAAAAAoGhAAAAAAABgaEAAAAAAAOBnQAAAAAAAIGhAAAAAAACgaEAAAAAAAABpQAAAAAAAoGlAAAAAAAAgaUAAAAAAAGBpQAAAAAAAYGhAAAAAAABAakAAAAAAAKBpQAAAAAAAQGpAAAAAAACAaEAAAAAAACBpQAAAAAAAgGpAAAAAAABgZ0AAAAAAACBpQAAAAAAAYGlAAAAAAACgaEAAAAAAAGBpQAAAAAAAQGlAAAAAAADAaUAAAAAAAOBpQAAAAAAAIGhAAAAAAABAakA=",
          "dtype": "f8"
         },
         "xaxis": "x",
         "y": {
          "bdata": "AAAAAAB4rkAAAAAAAISsQAAAAAAAGq1AAAAAAABMrUAAAAAAAOisQAAAAAAAfq1AAAAAAACkr0AAAAAAAKSvQAAAAAAAyKlAAAAAAAAwsUAAAAAAAJCqQAAAAAAAsK1AAAAAAAA2sEAAAAAAALCtQAAAAAAAxrFAAAAAAADMsEAAAAAAAASwQAAAAAAAIKxAAAAAAADAskAAAAAAAJSxQAAAAAAA3K5AAAAAAAC8q0AAAAAAAGKxQAAAAAAAzLBAAAAAAABkqUAAAAAAANyuQAAAAAAApK9AAAAAAAD0qkAAAAAAAKSvQAAAAAAAsK1AAAAAAADcrkAAAAAAAECvQAAAAAAAfq1AAAAAAAAEsEA=",
          "dtype": "f8"
         },
         "yaxis": "y"
        },
        {
         "hovertemplate": "especie=Chinstrap<br>sexo=Female<br>Tamanho da nadadeira (mm)=%{x}<br>Peso (g)=%{y}<extra></extra>",
         "legendgroup": "Chinstrap, Female",
         "marker": {
          "color": "#EF553B",
          "symbol": "diamond"
         },
         "mode": "markers",
         "name": "Chinstrap, Female",
         "orientation": "v",
         "showlegend": true,
         "type": "scatter",
         "x": {
          "bdata": "AAAAAAAAaEAAAAAAAIBnQAAAAAAAwGhAAAAAAABAZkAAAAAAAGBoQAAAAAAAIGhAAAAAAAAgZ0AAAAAAAMBnQAAAAAAAoGZAAAAAAADAZ0AAAAAAAKBmQAAAAAAAYGdAAAAAAABgaEAAAAAAAABpQAAAAAAA4GdAAAAAAABgZ0AAAAAAAGBnQAAAAAAA4GhAAAAAAABgaEAAAAAAAABoQAAAAAAAYGdAAAAAAACAaEAAAAAAAIBoQAAAAAAAwGdAAAAAAADAaEAAAAAAAOBoQAAAAAAAIGhAAAAAAABgZ0AAAAAAAOBnQAAAAAAAQGhAAAAAAACgZ0AAAAAAAGBoQAAAAAAAQGlAAAAAAADAaEA=",
          "dtype": "f8"
         },
         "xaxis": "x",
         "y": {
          "bdata": "AAAAAABYq0AAAAAAAIqrQAAAAAAA3K5AAAAAAABkqUAAAAAAADawQAAAAAAAsK1AAAAAAADorEAAAAAAAO6rQAAAAAAA6KxAAAAAAAD0qkAAAAAAACCsQAAAAAAAqKZAAAAAAADIqUAAAAAAAJCqQAAAAAAA6KxAAAAAAAAAqUAAAAAAACyqQAAAAAAAeK5AAAAAAAAUrkAAAAAAABilQAAAAAAAhKxAAAAAAABYq0AAAAAAALasQAAAAAAAkKpAAAAAAAC2rEAAAAAAAPqpQAAAAAAAIKxAAAAAAAAsqkAAAAAAAGSpQAAAAAAAiqtAAAAAAACErEAAAAAAAISsQAAAAAAAkKpAAAAAAAB+rUA=",
          "dtype": "f8"
         },
         "yaxis": "y"
        },
        {
         "hovertemplate": "especie=Gentoo<br>sexo=Male<br>Tamanho da nadadeira (mm)=%{x}<br>Peso (g)=%{y}<extra></extra>",
         "legendgroup": "Gentoo, Male",
         "marker": {
          "color": "#00cc96",
          "symbol": "circle"
         },
         "mode": "markers",
         "name": "Gentoo, Male",
         "orientation": "v",
         "showlegend": true,
         "type": "scatter",
         "x": {
          "bdata": "AAAAAADAbEAAAAAAAEBrQAAAAAAA4GpAAAAAAABga0AAAAAAAOBqQAAAAAAAAGtAAAAAAACgakAAAAAAACBrQAAAAAAAoGtAAAAAAADAa0AAAAAAAEBrQAAAAAAA4GpAAAAAAADgakAAAAAAAOBqQAAAAAAAgGtAAAAAAADAa0AAAAAAAMBsQAAAAAAAgGtAAAAAAABga0AAAAAAAABqQAAAAAAAIGxAAAAAAAAAa0AAAAAAAMBrQAAAAAAAIGxAAAAAAADgakAAAAAAAIBrQAAAAAAAIGxAAAAAAACAa0AAAAAAAIBrQAAAAAAAAGxAAAAAAACga0AAAAAAAOBsQAAAAAAAwGxAAAAAAACgbEAAAAAAAOBrQAAAAAAAoGtAAAAAAACga0AAAAAAAMBsQAAAAAAAgGtAAAAAAADga0AAAAAAAKBrQAAAAAAAAGxAAAAAAACAbEAAAAAAAEBrQAAAAAAAwGxAAAAAAACAbEAAAAAAAABsQAAAAAAAQGxAAAAAAAAAa0AAAAAAACBsQAAAAAAAgGxAAAAAAACAbEAAAAAAAOBqQAAAAAAAYGtAAAAAAAAgakAAAAAAAKBsQAAAAAAAwGxAAAAAAADAbEAAAAAAAMBrQAAAAAAAwGtAAAAAAACgakA=",
          "dtype": "f8"
         },
         "xaxis": "x",
         "y": {
          "bdata": "AAAAAABEtkAAAAAAAES2QAAAAAAAGLVAAAAAAABQtEAAAAAAAB60QAAAAAAArrVAAAAAAADatkAAAAAAANq2QAAAAAAAnLhAAAAAAADmtEAAAAAAAES2QAAAAAAAurNAAAAAAADss0AAAAAAABK2QAAAAAAArrVAAAAAAACCtEAAAAAAAKK3QAAAAAAAGLVAAAAAAACCtEAAAAAAAOa0QAAAAAAARLZAAAAAAACOskAAAAAAAK61QAAAAAAAGLVAAAAAAAC0tEAAAAAAALS0QAAAAAAAiLNAAAAAAAC6s0AAAAAAAIizQAAAAAAArrVAAAAAAAC0tEAAAAAAABK2QAAAAAAARLZAAAAAAACotkAAAAAAAK61QAAAAAAAiLNAAAAAAADss0AAAAAAAKi2QAAAAAAAcLdAAAAAAAA+t0AAAAAAAEq1QAAAAAAA5rRAAAAAAADgtUAAAAAAALS0QAAAAAAArrVAAAAAAAAYtUAAAAAAABK2QAAAAAAAULRAAAAAAAA9s0AAAAAAAIK0QAAAAAAA4LVAAAAAAAB8tUAAAAAAAHy1QAAAAAAAfLVAAAAAAAB8tUAAAAAAAD63QAAAAAAAfLVAAAAAAADatkAAAAAAAHC3QAAAAAAAdrZAAAAAAAAYtUA=",
          "dtype": "f8"
         },
         "yaxis": "y"
        },
        {
         "hovertemplate": "especie=Gentoo<br>sexo=Female<br>Tamanho da nadadeira (mm)=%{x}<br>Peso (g)=%{y}<extra></extra>",
         "legendgroup": "Gentoo, Female",
         "marker": {
          "color": "#00cc96",
          "symbol": "diamond"
         },
         "mode": "markers",
         "name": "Gentoo, Female",
         "orientation": "v",
         "showlegend": true,
         "type": "scatter",
         "x": {
          "bdata": "AAAAAABgakAAAAAAAEBqQAAAAAAAQGpAAAAAAABgakAAAAAAACBqQAAAAAAAwGpAAAAAAADAakAAAAAAAEBqQAAAAAAAQGpAAAAAAAAgakAAAAAAAOBqQAAAAAAAoGpAAAAAAADgakAAAAAAAEBqQAAAAAAAIGpAAAAAAADgaUAAAAAAAIBrQAAAAAAAoGpAAAAAAAAAakAAAAAAAABqQAAAAAAAQGpAAAAAAAAga0AAAAAAAEBqQAAAAAAAoGpAAAAAAABAakAAAAAAAEBqQAAAAAAAIGtAAAAAAAAAakAAAAAAAABqQAAAAAAAAGpAAAAAAADAakAAAAAAAGBrQAAAAAAAgGtAAAAAAAAAa0AAAAAAACBrQAAAAAAAAGtAAAAAAAAgakAAAAAAAOBqQAAAAAAAgGpAAAAAAACAakAAAAAAAIBqQAAAAAAAQGtAAAAAAACAakAAAAAAAEBrQAAAAAAAgGpAAAAAAADAakAAAAAAAMBrQAAAAAAAYGlAAAAAAABga0AAAAAAAOBqQAAAAAAAQGpAAAAAAAAAakAAAAAAAABrQAAAAAAAoGpAAAAAAAAga0AAAAAAAMBqQAAAAAAA4GpAAAAAAACAakA=",
          "dtype": "f8"
         },
         "xaxis": "x",
         "y": {
          "bdata": "AAAAAACUsUAAAAAAAGKxQAAAAAAAxrFAAAAAAADAskAAAAAAADCxQAAAAAAAKrJAAAAAAAAqskAAAAAAAGiwQAAAAAAANrBAAAAAAADAskAAAAAAAIizQAAAAAAAMLFAAAAAAACIs0AAAAAAAPixQAAAAAAAXLJAAAAAAAC6s0AAAAAAAB60QAAAAAAAVrNAAAAAAAD+sEAAAAAAANyuQAAAAAAAzLBAAAAAAAAks0AAAAAAAGiwQAAAAAAA7LNAAAAAAADyskAAAAAAADCxQAAAAAAAJLNAAAAAAADMsEAAAAAAAGKxQAAAAAAAaLBAAAAAAAAwsUAAAAAAAFyyQAAAAAAAXLJAAAAAAACOskAAAAAAAFC0QAAAAAAAXLJAAAAAAAD4sUAAAAAAAI6yQAAAAAAAEbJAAAAAAAB1skAAAAAAAI6yQAAAAAAA+LFAAAAAAAALs0AAAAAAAFazQAAAAAAAjrJAAAAAAADyskAAAAAAAAuzQAAAAAAAEbJAAAAAAADyskAAAAAAAG+zQAAAAAAAXLJAAAAAAADfsUAAAAAAAIizQAAAAAAAKrJAAAAAAAAXsUAAAAAAAD2zQAAAAAAA8rJAAAAAAABQtEA=",
          "dtype": "f8"
         },
         "yaxis": "y"
        }
       ],
       "layout": {
        "legend": {
         "title": {
          "text": "especie, sexo"
         },
         "tracegroupgap": 0
        },
        "template": {
         "data": {
          "bar": [
           {
            "error_x": {
             "color": "#2a3f5f"
            },
            "error_y": {
             "color": "#2a3f5f"
            },
            "marker": {
             "line": {
              "color": "#E5ECF6",
              "width": 0.5
             },
             "pattern": {
              "fillmode": "overlay",
              "size": 10,
              "solidity": 0.2
             }
            },
            "type": "bar"
           }
          ],
          "barpolar": [
           {
            "marker": {
             "line": {
              "color": "#E5ECF6",
              "width": 0.5
             },
             "pattern": {
              "fillmode": "overlay",
              "size": 10,
              "solidity": 0.2
             }
            },
            "type": "barpolar"
           }
          ],
          "carpet": [
           {
            "aaxis": {
             "endlinecolor": "#2a3f5f",
             "gridcolor": "white",
             "linecolor": "white",
             "minorgridcolor": "white",
             "startlinecolor": "#2a3f5f"
            },
            "baxis": {
             "endlinecolor": "#2a3f5f",
             "gridcolor": "white",
             "linecolor": "white",
             "minorgridcolor": "white",
             "startlinecolor": "#2a3f5f"
            },
            "type": "carpet"
           }
          ],
          "choropleth": [
           {
            "colorbar": {
             "outlinewidth": 0,
             "ticks": ""
            },
            "type": "choropleth"
           }
          ],
          "contour": [
           {
            "colorbar": {
             "outlinewidth": 0,
             "ticks": ""
            },
            "colorscale": [
             [
              0,
              "#0d0887"
             ],
             [
              0.1111111111111111,
              "#46039f"
             ],
             [
              0.2222222222222222,
              "#7201a8"
             ],
             [
              0.3333333333333333,
              "#9c179e"
             ],
             [
              0.4444444444444444,
              "#bd3786"
             ],
             [
              0.5555555555555556,
              "#d8576b"
             ],
             [
              0.6666666666666666,
              "#ed7953"
             ],
             [
              0.7777777777777778,
              "#fb9f3a"
             ],
             [
              0.8888888888888888,
              "#fdca26"
             ],
             [
              1,
              "#f0f921"
             ]
            ],
            "type": "contour"
           }
          ],
          "contourcarpet": [
           {
            "colorbar": {
             "outlinewidth": 0,
             "ticks": ""
            },
            "type": "contourcarpet"
           }
          ],
          "heatmap": [
           {
            "colorbar": {
             "outlinewidth": 0,
             "ticks": ""
            },
            "colorscale": [
             [
              0,
              "#0d0887"
             ],
             [
              0.1111111111111111,
              "#46039f"
             ],
             [
              0.2222222222222222,
              "#7201a8"
             ],
             [
              0.3333333333333333,
              "#9c179e"
             ],
             [
              0.4444444444444444,
              "#bd3786"
             ],
             [
              0.5555555555555556,
              "#d8576b"
             ],
             [
              0.6666666666666666,
              "#ed7953"
             ],
             [
              0.7777777777777778,
              "#fb9f3a"
             ],
             [
              0.8888888888888888,
              "#fdca26"
             ],
             [
              1,
              "#f0f921"
             ]
            ],
            "type": "heatmap"
           }
          ],
          "histogram": [
           {
            "marker": {
             "pattern": {
              "fillmode": "overlay",
              "size": 10,
              "solidity": 0.2
             }
            },
            "type": "histogram"
           }
          ],
          "histogram2d": [
           {
            "colorbar": {
             "outlinewidth": 0,
             "ticks": ""
            },
            "colorscale": [
             [
              0,
              "#0d0887"
             ],
             [
              0.1111111111111111,
              "#46039f"
             ],
             [
              0.2222222222222222,
              "#7201a8"
             ],
             [
              0.3333333333333333,
              "#9c179e"
             ],
             [
              0.4444444444444444,
              "#bd3786"
             ],
             [
              0.5555555555555556,
              "#d8576b"
             ],
             [
              0.6666666666666666,
              "#ed7953"
             ],
             [
              0.7777777777777778,
              "#fb9f3a"
             ],
             [
              0.8888888888888888,
              "#fdca26"
             ],
             [
              1,
              "#f0f921"
             ]
            ],
            "type": "histogram2d"
           }
          ],
          "histogram2dcontour": [
           {
            "colorbar": {
             "outlinewidth": 0,
             "ticks": ""
            },
            "colorscale": [
             [
              0,
              "#0d0887"
             ],
             [
              0.1111111111111111,
              "#46039f"
             ],
             [
              0.2222222222222222,
              "#7201a8"
             ],
             [
              0.3333333333333333,
              "#9c179e"
             ],
             [
              0.4444444444444444,
              "#bd3786"
             ],
             [
              0.5555555555555556,
              "#d8576b"
             ],
             [
              0.6666666666666666,
              "#ed7953"
             ],
             [
              0.7777777777777778,
              "#fb9f3a"
             ],
             [
              0.8888888888888888,
              "#fdca26"
             ],
             [
              1,
              "#f0f921"
             ]
            ],
            "type": "histogram2dcontour"
           }
          ],
          "mesh3d": [
           {
            "colorbar": {
             "outlinewidth": 0,
             "ticks": ""
            },
            "type": "mesh3d"
           }
          ],
          "parcoords": [
           {
            "line": {
             "colorbar": {
              "outlinewidth": 0,
              "ticks": ""
             }
            },
            "type": "parcoords"
           }
          ],
          "pie": [
           {
            "automargin": true,
            "type": "pie"
           }
          ],
          "scatter": [
           {
            "fillpattern": {
             "fillmode": "overlay",
             "size": 10,
             "solidity": 0.2
            },
            "type": "scatter"
           }
          ],
          "scatter3d": [
           {
            "line": {
             "colorbar": {
              "outlinewidth": 0,
              "ticks": ""
             }
            },
            "marker": {
             "colorbar": {
              "outlinewidth": 0,
              "ticks": ""
             }
            },
            "type": "scatter3d"
           }
          ],
          "scattercarpet": [
           {
            "marker": {
             "colorbar": {
              "outlinewidth": 0,
              "ticks": ""
             }
            },
            "type": "scattercarpet"
           }
          ],
          "scattergeo": [
           {
            "marker": {
             "colorbar": {
              "outlinewidth": 0,
              "ticks": ""
             }
            },
            "type": "scattergeo"
           }
          ],
          "scattergl": [
           {
            "marker": {
             "colorbar": {
              "outlinewidth": 0,
              "ticks": ""
             }
            },
            "type": "scattergl"
           }
          ],
          "scattermap": [
           {
            "marker": {
             "colorbar": {
              "outlinewidth": 0,
              "ticks": ""
             }
            },
            "type": "scattermap"
           }
          ],
          "scattermapbox": [
           {
            "marker": {
             "colorbar": {
              "outlinewidth": 0,
              "ticks": ""
             }
            },
            "type": "scattermapbox"
           }
          ],
          "scatterpolar": [
           {
            "marker": {
             "colorbar": {
              "outlinewidth": 0,
              "ticks": ""
             }
            },
            "type": "scatterpolar"
           }
          ],
          "scatterpolargl": [
           {
            "marker": {
             "colorbar": {
              "outlinewidth": 0,
              "ticks": ""
             }
            },
            "type": "scatterpolargl"
           }
          ],
          "scatterternary": [
           {
            "marker": {
             "colorbar": {
              "outlinewidth": 0,
              "ticks": ""
             }
            },
            "type": "scatterternary"
           }
          ],
          "surface": [
           {
            "colorbar": {
             "outlinewidth": 0,
             "ticks": ""
            },
            "colorscale": [
             [
              0,
              "#0d0887"
             ],
             [
              0.1111111111111111,
              "#46039f"
             ],
             [
              0.2222222222222222,
              "#7201a8"
             ],
             [
              0.3333333333333333,
              "#9c179e"
             ],
             [
              0.4444444444444444,
              "#bd3786"
             ],
             [
              0.5555555555555556,
              "#d8576b"
             ],
             [
              0.6666666666666666,
              "#ed7953"
             ],
             [
              0.7777777777777778,
              "#fb9f3a"
             ],
             [
              0.8888888888888888,
              "#fdca26"
             ],
             [
              1,
              "#f0f921"
             ]
            ],
            "type": "surface"
           }
          ],
          "table": [
           {
            "cells": {
             "fill": {
              "color": "#EBF0F8"
             },
             "line": {
              "color": "white"
             }
            },
            "header": {
             "fill": {
              "color": "#C8D4E3"
             },
             "line": {
              "color": "white"
             }
            },
            "type": "table"
           }
          ]
         },
         "layout": {
          "annotationdefaults": {
           "arrowcolor": "#2a3f5f",
           "arrowhead": 0,
           "arrowwidth": 1
          },
          "autotypenumbers": "strict",
          "coloraxis": {
           "colorbar": {
            "outlinewidth": 0,
            "ticks": ""
           }
          },
          "colorscale": {
           "diverging": [
            [
             0,
             "#8e0152"
            ],
            [
             0.1,
             "#c51b7d"
            ],
            [
             0.2,
             "#de77ae"
            ],
            [
             0.3,
             "#f1b6da"
            ],
            [
             0.4,
             "#fde0ef"
            ],
            [
             0.5,
             "#f7f7f7"
            ],
            [
             0.6,
             "#e6f5d0"
            ],
            [
             0.7,
             "#b8e186"
            ],
            [
             0.8,
             "#7fbc41"
            ],
            [
             0.9,
             "#4d9221"
            ],
            [
             1,
             "#276419"
            ]
           ],
           "sequential": [
            [
             0,
             "#0d0887"
            ],
            [
             0.1111111111111111,
             "#46039f"
            ],
            [
             0.2222222222222222,
             "#7201a8"
            ],
            [
             0.3333333333333333,
             "#9c179e"
            ],
            [
             0.4444444444444444,
             "#bd3786"
            ],
            [
             0.5555555555555556,
             "#d8576b"
            ],
            [
             0.6666666666666666,
             "#ed7953"
            ],
            [
             0.7777777777777778,
             "#fb9f3a"
            ],
            [
             0.8888888888888888,
             "#fdca26"
            ],
            [
             1,
             "#f0f921"
            ]
           ],
           "sequentialminus": [
            [
             0,
             "#0d0887"
            ],
            [
             0.1111111111111111,
             "#46039f"
            ],
            [
             0.2222222222222222,
             "#7201a8"
            ],
            [
             0.3333333333333333,
             "#9c179e"
            ],
            [
             0.4444444444444444,
             "#bd3786"
            ],
            [
             0.5555555555555556,
             "#d8576b"
            ],
            [
             0.6666666666666666,
             "#ed7953"
            ],
            [
             0.7777777777777778,
             "#fb9f3a"
            ],
            [
             0.8888888888888888,
             "#fdca26"
            ],
            [
             1,
             "#f0f921"
            ]
           ]
          },
          "colorway": [
           "#636efa",
           "#EF553B",
           "#00cc96",
           "#ab63fa",
           "#FFA15A",
           "#19d3f3",
           "#FF6692",
           "#B6E880",
           "#FF97FF",
           "#FECB52"
          ],
          "font": {
           "color": "#2a3f5f"
          },
          "geo": {
           "bgcolor": "white",
           "lakecolor": "white",
           "landcolor": "#E5ECF6",
           "showlakes": true,
           "showland": true,
           "subunitcolor": "white"
          },
          "hoverlabel": {
           "align": "left"
          },
          "hovermode": "closest",
          "mapbox": {
           "style": "light"
          },
          "paper_bgcolor": "white",
          "plot_bgcolor": "#E5ECF6",
          "polar": {
           "angularaxis": {
            "gridcolor": "white",
            "linecolor": "white",
            "ticks": ""
           },
           "bgcolor": "#E5ECF6",
           "radialaxis": {
            "gridcolor": "white",
            "linecolor": "white",
            "ticks": ""
           }
          },
          "scene": {
           "xaxis": {
            "backgroundcolor": "#E5ECF6",
            "gridcolor": "white",
            "gridwidth": 2,
            "linecolor": "white",
            "showbackground": true,
            "ticks": "",
            "zerolinecolor": "white"
           },
           "yaxis": {
            "backgroundcolor": "#E5ECF6",
            "gridcolor": "white",
            "gridwidth": 2,
            "linecolor": "white",
            "showbackground": true,
            "ticks": "",
            "zerolinecolor": "white"
           },
           "zaxis": {
            "backgroundcolor": "#E5ECF6",
            "gridcolor": "white",
            "gridwidth": 2,
            "linecolor": "white",
            "showbackground": true,
            "ticks": "",
            "zerolinecolor": "white"
           }
          },
          "shapedefaults": {
           "line": {
            "color": "#2a3f5f"
           }
          },
          "ternary": {
           "aaxis": {
            "gridcolor": "white",
            "linecolor": "white",
            "ticks": ""
           },
           "baxis": {
            "gridcolor": "white",
            "linecolor": "white",
            "ticks": ""
           },
           "bgcolor": "#E5ECF6",
           "caxis": {
            "gridcolor": "white",
            "linecolor": "white",
            "ticks": ""
           }
          },
          "title": {
           "x": 0.05
          },
          "xaxis": {
           "automargin": true,
           "gridcolor": "white",
           "linecolor": "white",
           "ticks": "",
           "title": {
            "standoff": 15
           },
           "zerolinecolor": "white",
           "zerolinewidth": 2
          },
          "yaxis": {
           "automargin": true,
           "gridcolor": "white",
           "linecolor": "white",
           "ticks": "",
           "title": {
            "standoff": 15
           },
           "zerolinecolor": "white",
           "zerolinewidth": 2
          }
         }
        },
        "title": {
         "text": "Relação: Nadadeira vs Peso"
        },
        "xaxis": {
         "anchor": "y",
         "domain": [
          0,
          1
         ],
         "title": {
          "text": "Tamanho da nadadeira (mm)"
         }
        },
        "yaxis": {
         "anchor": "x",
         "domain": [
          0,
          1
         ],
         "title": {
          "text": "Peso (g)"
         }
        }
       }
      }
     },
     "metadata": {},
     "output_type": "display_data"
    }
   ],
   "source": [
    "#Analise Scatterplot:\n",
    "\n",
    "fig = px.scatter(\n",
    "    penguins,\n",
    "    x=\"nadadeira_mm\",\n",
    "    y=\"peso_g\",\n",
    "    color=\"especie\",\n",
    "    symbol=\"sexo\",\n",
    "    title=\"Relação: Nadadeira vs Peso\",\n",
    "    labels={\"nadadeira_mm\": \"Tamanho da nadadeira (mm)\", \"peso_g\": \"Peso (g)\"}\n",
    ")\n",
    "fig.show()\n",
    "\n",
    "\n"
   ]
  },
  {
   "cell_type": "markdown",
   "id": "c6e660db-9eb7-4ecb-8ed8-a4bf02b0a73d",
   "metadata": {},
   "source": [
    "A análise de dispersão indica que, de forma geral, pinguins com maior comprimento de nadadeira tendem a apresentar maior massa corporal.\n",
    "\n",
    "Observa-se que a espécie Gentoo concentra-se nas faixas mais elevadas de comprimento de nadadeira e peso, situando-se acima da média geral para ambas as variáveis. Em contraste, as espécies Chinstrap e Adelie apresentam medidas menores, tanto em nadadeira quanto em peso. Nota-se todo momento que Penguins do sexo masculino tem o tamanho da nadadeira maiores e também peso.\n",
    "\n",
    "Ao estratificar por sexo, verifica-se que machos tendem a ocupar as posições superiores em peso dentro de cada espécie, embora exista sobreposição com fêmeas em determinadas faixas."
   ]
  },
  {
   "cell_type": "markdown",
   "id": "5cf19c3e-0e7d-4f87-8a6c-6fb8b72ef0ed",
   "metadata": {
    "jp-MarkdownHeadingCollapsed": true
   },
   "source": [
    "#### Historograma por peso \n",
    "\n",
    "Realizou-se a análise da distribuição de frequência da massa corporal dos pinguins, estratificada por sexo biológico (Male = Masculino; Female = Feminino).\n",
    "\n",
    "Os resultados indicam que valores acima de 5.000 g (5 kg) ocorrem majoritariamente entre indivíduos do sexo masculino. Para o sexo feminino, a distribuição apresenta variação entre ~3.000 g (3 kg) e pouco acima de 5.000 g (5 kg).\n",
    "\n",
    "Observou-se ainda que, na classe de peso centrada em 4.000 g (4 kg), a ocorrência é exclusiva de indivíduos do sexo masculino.\n",
    "\n",
    "\n"
   ]
  },
  {
   "cell_type": "code",
   "execution_count": 118,
   "id": "a814caac-6bdd-4102-9830-c8b49b6a8b83",
   "metadata": {},
   "outputs": [
    {
     "data": {
      "image/png": "[encoded data removed]",
      "text/plain": [
       "<Figure size 800x500 with 1 Axes>"
      ]
     },
     "metadata": {},
     "output_type": "display_data"
    }
   ],
   "source": [
    "plt.figure(figsize=(8,5))\n",
    "sns.histplot(data=penguins, x=\"peso_g\", hue=\"sexo\", multiple=\"stack\", bins=20)\n",
    "plt.title(\"Distribuição do peso por sexo\")\n",
    "plt.show()\n"
   ]
  },
  {
   "cell_type": "markdown",
   "id": "e763d142-8822-46bc-8d01-8e59850d3ab5",
   "metadata": {},
   "source": [
    "\n",
    "### O tamanho da nadadeira influencia o peso do pinguim?\n",
    "Existe uma relação forte e positiva entre o tamanho da nadadeira e o peso do pinguim.\n",
    "Cada mm a mais na nadadeira acrescenta cerca de 50 g ao peso.\n",
    "O modelo explica aproximadamente 76% da variação do peso, e essa relação é estatisticamente significativa.\n"
   ]
  },
  {
   "cell_type": "code",
   "execution_count": 119,
   "id": "221078c7-a4e1-4bc9-aee5-7862139f3dda",
   "metadata": {},
   "outputs": [
    {
     "name": "stdout",
     "output_type": "stream",
     "text": [
      "                            OLS Regression Results                            \n",
      "==============================================================================\n",
      "Dep. Variable:                 peso_g   R-squared:                       0.759\n",
      "Model:                            OLS   Adj. R-squared:                  0.758\n",
      "Method:                 Least Squares   F-statistic:                     1071.\n",
      "Date:                Fri, 15 Aug 2025   Prob (F-statistic):          4.37e-107\n",
      "Time:                        21:27:01   Log-Likelihood:                -2528.4\n",
      "No. Observations:                 342   AIC:                             5061.\n",
      "Df Residuals:                     340   BIC:                             5069.\n",
      "Df Model:                           1                                         \n",
      "Covariance Type:            nonrobust                                         \n",
      "================================================================================\n",
      "                   coef    std err          t      P>|t|      [0.025      0.975]\n",
      "--------------------------------------------------------------------------------\n",
      "const        -5780.8314    305.815    -18.903      0.000   -6382.358   -5179.305\n",
      "nadadeira_mm    49.6856      1.518     32.722      0.000      46.699      52.672\n",
      "==============================================================================\n",
      "Omnibus:                        5.634   Durbin-Watson:                   2.176\n",
      "Prob(Omnibus):                  0.060   Jarque-Bera (JB):                5.585\n",
      "Skew:                           0.313   Prob(JB):                       0.0613\n",
      "Kurtosis:                       3.019   Cond. No.                     2.89e+03\n",
      "==============================================================================\n",
      "\n",
      "Notes:\n",
      "[1] Standard Errors assume that the covariance matrix of the errors is correctly specified.\n",
      "[2] The condition number is large, 2.89e+03. This might indicate that there are\n",
      "strong multicollinearity or other numerical problems.\n"
     ]
    }
   ],
   "source": [
    "\n",
    "X = penguins[\"nadadeira_mm\"]\n",
    "y = penguins[\"peso_g\"]\n",
    "X = sm.add_constant(X)  # adiciona intercepto\n",
    "\n",
    "modelo = sm.OLS(y, X, missing='drop').fit()\n",
    "print(modelo.summary())\n",
    "\n"
   ]
  },
  {
   "cell_type": "markdown",
   "id": "8d4875fd-11c2-4159-a281-cb6d549a4328",
   "metadata": {},
   "source": [
    "#### O gráfico 3D interativo permite visualizar simultaneamente três medidas corporais dos pinguins.\n",
    "Observa-se que os Gentoo tendem a ter nadadeiras maiores, pesos mais altos e bicos mais longos, diferenciando-se claramente de Adelie e Chinstrap.\n",
    "O uso de cores e símbolos facilita a identificação de diferenças entre espécies e sexo, enquanto o tamanho dos pontos evidencia variações no peso.\n",
    "Essa visualização auxilia na análise de dimorfismo sexual, padrões de crescimento e classificação de espécies."
   ]
  },
  {
   "cell_type": "code",
   "execution_count": 120,
   "id": "c4affa38-fd35-47b3-9ae6-67799a99fdc4",
   "metadata": {},
   "outputs": [
    {
     "data": {
      "application/vnd.plotly.v1+json": {
       "config": {
        "plotlyServerURL": "https://plot.ly"
       },
       "data": [
        {
         "hovertemplate": "species=Adelie<br>sex=Male<br>Nadadeira (mm)=%{x}<br>Peso (g)=%{marker.size}<br>Comprimento do bico (mm)=%{z}<extra></extra>",
         "legendgroup": "Adelie, Male",
         "marker": {
          "color": "#636efa",
          "size": {
           "bdata": "AAAAAABMrUAAAAAAAISsQAAAAAAAQ7JAAAAAAACwrUAAAAAAADCxQAAAAAAAlLFAAAAAAABosEAAAAAAACCsQAAAAAAA3K5AAAAAAACwrUAAAAAAALyrQAAAAAAA3K5AAAAAAAB4rkAAAAAAAHiuQAAAAAAANrBAAAAAAADcrkAAAAAAACqyQAAAAAAAeK5AAAAAAAAwsUAAAAAAAPixQAAAAAAAwqpAAAAAAAA2sEAAAAAAAMywQAAAAAAApK9AAAAAAADorEAAAAAAALCtQAAAAAAATK1AAAAAAAAwsUAAAAAAAKSvQAAAAAAA3K5AAAAAAAAEsEAAAAAAAGKxQAAAAAAAeK5AAAAAAAA2sEAAAAAAAJqwQAAAAAAAeK5AAAAAAABAr0AAAAAAAFyyQAAAAAAAaLBAAAAAAAC8q0AAAAAAALCtQAAAAAAA3K5AAAAAAADMsEAAAAAAAGKxQAAAAAAAzLBAAAAAAAD+sEAAAAAAAASwQAAAAAAAdbJAAAAAAACasEAAAAAAALyrQAAAAAAAeK5AAAAAAACnskAAAAAAAPixQAAAAAAAs7BAAAAAAADWr0AAAAAAAH6tQAAAAAAA+qlAAAAAAABYq0AAAAAAAEauQAAAAAAAQK9AAAAAAADMsEAAAAAAAECvQAAAAAAAWKtAAAAAAAB7sUAAAAAAAHiuQAAAAAAADq9AAAAAAACasEAAAAAAACarQAAAAAAAGq1AAAAAAACErEAAAAAAAJqwQAAAAAAATK1AAAAAAABAr0A=",
           "dtype": "f8"
          },
          "sizemode": "area",
          "sizeref": 15.75,
          "symbol": "circle"
         },
         "mode": "markers",
         "name": "Adelie, Male",
         "scene": "scene",
         "showlegend": true,
         "type": "scatter3d",
         "x": {
          "bdata": "AAAAAACgZkAAAAAAAMBnQAAAAAAAYGhAAAAAAADgZ0AAAAAAAMBoQAAAAAAAoGhAAAAAAABAaEAAAAAAAIBmQAAAAAAAIGdAAAAAAACAZkAAAAAAAOBmQAAAAAAAgGZAAAAAAABAZkAAAAAAAABnQAAAAAAAgGhAAAAAAADAZ0AAAAAAAABnQAAAAAAAYGhAAAAAAACAaEAAAAAAAMBnQAAAAAAAwGZAAAAAAADgZ0AAAAAAAIBnQAAAAAAAAGlAAAAAAADgZ0AAAAAAACBoQAAAAAAAQGhAAAAAAABgaEAAAAAAAABoQAAAAAAAAGhAAAAAAACAZ0AAAAAAAMBoQAAAAAAAwGdAAAAAAACgaEAAAAAAAGBoQAAAAAAAAGdAAAAAAABgaEAAAAAAAIBoQAAAAAAAIGhAAAAAAABAaEAAAAAAAMBnQAAAAAAAoGdAAAAAAACgaUAAAAAAAEBnQAAAAAAAAGpAAAAAAACAaEAAAAAAAABoQAAAAAAAYGlAAAAAAADAZ0AAAAAAAABnQAAAAAAAwGdAAAAAAACgaEAAAAAAAOBnQAAAAAAAoGhAAAAAAACAaEAAAAAAAOBoQAAAAAAAoGdAAAAAAADAaEAAAAAAAEBpQAAAAAAA4GhAAAAAAABgaEAAAAAAAEBqQAAAAAAAoGhAAAAAAADgaEAAAAAAAMBnQAAAAAAAAGlAAAAAAAAgaEAAAAAAAGBnQAAAAAAAwGdAAAAAAAAgZ0AAAAAAAMBnQAAAAAAAIGhAAAAAAAAgaUA=",
          "dtype": "f8"
         },
         "y": {
          "bdata": "AAAAAABMrUAAAAAAAISsQAAAAAAAQ7JAAAAAAACwrUAAAAAAADCxQAAAAAAAlLFAAAAAAABosEAAAAAAACCsQAAAAAAA3K5AAAAAAACwrUAAAAAAALyrQAAAAAAA3K5AAAAAAAB4rkAAAAAAAHiuQAAAAAAANrBAAAAAAADcrkAAAAAAACqyQAAAAAAAeK5AAAAAAAAwsUAAAAAAAPixQAAAAAAAwqpAAAAAAAA2sEAAAAAAAMywQAAAAAAApK9AAAAAAADorEAAAAAAALCtQAAAAAAATK1AAAAAAAAwsUAAAAAAAKSvQAAAAAAA3K5AAAAAAAAEsEAAAAAAAGKxQAAAAAAAeK5AAAAAAAA2sEAAAAAAAJqwQAAAAAAAeK5AAAAAAABAr0AAAAAAAFyyQAAAAAAAaLBAAAAAAAC8q0AAAAAAALCtQAAAAAAA3K5AAAAAAADMsEAAAAAAAGKxQAAAAAAAzLBAAAAAAAD+sEAAAAAAAASwQAAAAAAAdbJAAAAAAACasEAAAAAAALyrQAAAAAAAeK5AAAAAAACnskAAAAAAAPixQAAAAAAAs7BAAAAAAADWr0AAAAAAAH6tQAAAAAAA+qlAAAAAAABYq0AAAAAAAEauQAAAAAAAQK9AAAAAAADMsEAAAAAAAECvQAAAAAAAWKtAAAAAAAB7sUAAAAAAAHiuQAAAAAAADq9AAAAAAACasEAAAAAAACarQAAAAAAAGq1AAAAAAACErEAAAAAAAJqwQAAAAAAATK1AAAAAAABAr0A=",
          "dtype": "f8"
         },
         "z": {
          "bdata": "zczMzMyMQ0BmZmZmZqZDQJqZmZmZmUNAzczMzMxMQ0DNzMzMzExBQAAAAAAAQEVAAAAAAAAAR0CamZmZmdlCQJqZmZmZGUNAZmZmZmZmQ0DNzMzMzExEQAAAAAAAQERAmpmZmZmZQkAzMzMzM3NEQJqZmZmZmUNAZmZmZmZmQ0BmZmZmZuZDQGZmZmZmZkRAzczMzMwMRkDNzMzMzMxDQM3MzMzMjERAZmZmZmYmRUDNzMzMzAxEQAAAAAAAAEVAMzMzMzOzREDNzMzMzExEQM3MzMzMzEJAZmZmZmamREDNzMzMzIxEQM3MzMzMzERAzczMzMyMREBmZmZmZuZEQJqZmZmZ2UNAZmZmZmbmRkBmZmZmZmZFQJqZmZmZmUJAzczMzMwMRUAzMzMzM3NFQM3MzMzMjEFAZmZmZmamREBmZmZmZiZCQGZmZmZmJkNAzczMzMyMREDNzMzMzMxDQGZmZmZmZkRAZmZmZmYmRECamZmZmZlFQAAAAAAAgERAZmZmZmbmQkCamZmZmdlDQJqZmZmZGUNAmpmZmZmZRUDNzMzMzMxGQJqZmZmZGUVAmpmZmZlZRUBmZmZmZqZCQM3MzMzMjERAmpmZmZnZQkAzMzMzM7NEQM3MzMzMTERAAAAAAADAREDNzMzMzAxGQM3MzMzMjEVAAAAAAADAQkDNzMzMzIxEQJqZmZmZGURAmpmZmZnZQ0DNzMzMzExEQJqZmZmZWURAAAAAAACAQ0CamZmZmZlDQGZmZmZm5kJAAAAAAADAREA=",
          "dtype": "f8"
         }
        },
        {
         "hovertemplate": "species=Adelie<br>sex=Female<br>Nadadeira (mm)=%{x}<br>Peso (g)=%{marker.size}<br>Comprimento do bico (mm)=%{z}<extra></extra>",
         "legendgroup": "Adelie, Female",
         "marker": {
          "color": "#636efa",
          "size": {
           "bdata": "AAAAAACwrUAAAAAAAGSpQAAAAAAA9KpAAAAAAABSrEAAAAAAAACpQAAAAAAA6KxAAAAAAAD0qkAAAAAAAPqpQAAAAAAAkKpAAAAAAACwrUAAAAAAALCtQAAAAAAAAKlAAAAAAACcqEAAAAAAAGSpQAAAAAAAyKlAAAAAAAD6qUAAAAAAALyrQAAAAAAAyKlAAAAAAACcqEAAAAAAADioQAAAAAAAcKdAAAAAAAD0qkAAAAAAAFirQAAAAAAA9KpAAAAAAACopkAAAAAAALyrQAAAAAAARKZAAAAAAACcqEAAAAAAACCsQAAAAAAARKZAAAAAAAAsqkAAAAAAANSnQAAAAAAAIKxAAAAAAAC8q0AAAAAAAOisQAAAAAAA6KxAAAAAAAC8q0AAAAAAAACpQAAAAAAAsK1AAAAAAAAsqkAAAAAAAFirQAAAAAAAIKxAAAAAAAC8q0AAAAAAAJCqQAAAAAAAyKlAAAAAAADorEAAAAAAAKimQAAAAAAAGq1AAAAAAAAGqEAAAAAAANqmQAAAAAAATK1AAAAAAADOqEAAAAAAAOKtQAAAAAAAAKlAAAAAAAB4rkAAAAAAAKimQAAAAAAALKpAAAAAAACcqEAAAAAAAPSqQAAAAAAA1KdAAAAAAACWqUAAAAAAANSnQAAAAAAA+qlAAAAAAABYq0AAAAAAAMKqQAAAAAAAzqhAAAAAAACQqkAAAAAAAJCqQAAAAAAA1KdAAAAAAABwp0AAAAAAACarQAAAAAAA9KpAAAAAAADorEA=",
           "dtype": "f8"
          },
          "sizemode": "area",
          "sizeref": 15.75,
          "symbol": "diamond"
         },
         "mode": "markers",
         "name": "Adelie, Female",
         "scene": "scene",
         "showlegend": true,
         "type": "scatter3d",
         "x": {
          "bdata": "AAAAAABAZ0AAAAAAAGBoQAAAAAAAIGhAAAAAAACgZkAAAAAAAMBmQAAAAAAAIGdAAAAAAABgaEAAAAAAAABnQAAAAAAAwGVAAAAAAACgZ0AAAAAAAGBnQAAAAAAAYGdAAAAAAACAZUAAAAAAAEBmQAAAAAAAgGdAAAAAAABgaEAAAAAAAIBmQAAAAAAAoGZAAAAAAADAZkAAAAAAAEBnQAAAAAAAIGdAAAAAAADAZ0AAAAAAAEBnQAAAAAAAwGdAAAAAAABgZ0AAAAAAAEBnQAAAAAAAoGZAAAAAAAAgZ0AAAAAAACBnQAAAAAAAAGdAAAAAAABgaEAAAAAAAMBnQAAAAAAAwGdAAAAAAACAaEAAAAAAAMBnQAAAAAAA4GdAAAAAAABgZ0AAAAAAAKBnQAAAAAAAYGdAAAAAAADgZ0AAAAAAAKBnQAAAAAAAwGdAAAAAAABAaUAAAAAAACBnQAAAAAAAYGdAAAAAAADAZ0AAAAAAAEBmQAAAAAAAAGhAAAAAAADgZkAAAAAAACBoQAAAAAAA4GhAAAAAAACgZkAAAAAAAMBoQAAAAAAAIGhAAAAAAADgZ0AAAAAAAIBnQAAAAAAAoGdAAAAAAABgZ0AAAAAAAABmQAAAAAAAQGdAAAAAAADgZ0AAAAAAAOBnQAAAAAAAwGdAAAAAAAAgaEAAAAAAAGBnQAAAAAAA4GdAAAAAAAAgZ0AAAAAAACBoQAAAAAAAgGdAAAAAAAAAaEAAAAAAAABnQAAAAAAAYGhAAAAAAABgZ0A=",
          "dtype": "f8"
         },
         "y": {
          "bdata": "AAAAAACwrUAAAAAAAGSpQAAAAAAA9KpAAAAAAABSrEAAAAAAAACpQAAAAAAA6KxAAAAAAAD0qkAAAAAAAPqpQAAAAAAAkKpAAAAAAACwrUAAAAAAALCtQAAAAAAAAKlAAAAAAACcqEAAAAAAAGSpQAAAAAAAyKlAAAAAAAD6qUAAAAAAALyrQAAAAAAAyKlAAAAAAACcqEAAAAAAADioQAAAAAAAcKdAAAAAAAD0qkAAAAAAAFirQAAAAAAA9KpAAAAAAACopkAAAAAAALyrQAAAAAAARKZAAAAAAACcqEAAAAAAACCsQAAAAAAARKZAAAAAAAAsqkAAAAAAANSnQAAAAAAAIKxAAAAAAAC8q0AAAAAAAOisQAAAAAAA6KxAAAAAAAC8q0AAAAAAAACpQAAAAAAAsK1AAAAAAAAsqkAAAAAAAFirQAAAAAAAIKxAAAAAAAC8q0AAAAAAAJCqQAAAAAAAyKlAAAAAAADorEAAAAAAAKimQAAAAAAAGq1AAAAAAAAGqEAAAAAAANqmQAAAAAAATK1AAAAAAADOqEAAAAAAAOKtQAAAAAAAAKlAAAAAAAB4rkAAAAAAAKimQAAAAAAALKpAAAAAAACcqEAAAAAAAPSqQAAAAAAA1KdAAAAAAACWqUAAAAAAANSnQAAAAAAA+qlAAAAAAABYq0AAAAAAAMKqQAAAAAAAzqhAAAAAAACQqkAAAAAAAJCqQAAAAAAA1KdAAAAAAABwp0AAAAAAACarQAAAAAAA9KpAAAAAAADorEA=",
          "dtype": "f8"
         },
         "z": {
          "bdata": "AAAAAADAQ0BmZmZmZiZEQJqZmZmZWUJAMzMzMzNzQ0DNzMzMzIxEQM3MzMzMTEJAmpmZmZlZQ0AzMzMzMzNBQGZmZmZm5kJAMzMzMzPzQUBmZmZmZqZBQAAAAAAAQERAMzMzMzPzQkAAAAAAAMBDQAAAAAAAwENAMzMzMzMzQkCamZmZmRlFQM3MzMzMzEJAAAAAAABAQkAAAAAAAABCQAAAAAAAgEJAAAAAAAAAQkDNzMzMzMxDQAAAAAAAgEFAAAAAAABAQUAAAAAAAIBDQAAAAAAAQEJAmpmZmZnZQUDNzMzMzMxCQDMzMzMzM0JAAAAAAADAQUAzMzMzM/NBQAAAAAAAwEBAzczMzMzMQ0AAAAAAAMBBQDMzMzMzc0RAmpmZmZkZQkDNzMzMzExBQJqZmZmZWUJAZmZmZmamQkAzMzMzM3NCQDMzMzMzc0NAmpmZmZnZQUAAAAAAAABBQJqZmZmZGUJAzczMzMwMQ0DNzMzMzIxAQAAAAAAAgEFAmpmZmZnZQkAzMzMzM/NCQM3MzMzMTENAzczMzMwMQ0DNzMzMzAxDQJqZmZmZ2UNAzczMzMzMQ0DNzMzMzExDQJqZmZmZ2UFAmpmZmZkZQkCamZmZmRlEQJqZmZmZmUFAZmZmZmZmQ0AAAAAAAIBDQAAAAAAAQENAZmZmZmZmQkDNzMzMzAxDQM3MzMzMzEFAAAAAAACAQkCamZmZmRlEQM3MzMzMDEBAZmZmZmamQkDNzMzMzExCQAAAAAAAAEJAAAAAAAAAQkA=",
          "dtype": "f8"
         }
        },
        {
         "hovertemplate": "species=Chinstrap<br>sex=Male<br>Nadadeira (mm)=%{x}<br>Peso (g)=%{marker.size}<br>Comprimento do bico (mm)=%{z}<extra></extra>",
         "legendgroup": "Chinstrap, Male",
         "marker": {
          "color": "#EF553B",
          "size": {
           "bdata": "AAAAAAB4rkAAAAAAAISsQAAAAAAAGq1AAAAAAABMrUAAAAAAAOisQAAAAAAAfq1AAAAAAACkr0AAAAAAAKSvQAAAAAAAyKlAAAAAAAAwsUAAAAAAAJCqQAAAAAAAsK1AAAAAAAA2sEAAAAAAALCtQAAAAAAAxrFAAAAAAADMsEAAAAAAAASwQAAAAAAAIKxAAAAAAADAskAAAAAAAJSxQAAAAAAA3K5AAAAAAAC8q0AAAAAAAGKxQAAAAAAAzLBAAAAAAABkqUAAAAAAANyuQAAAAAAApK9AAAAAAAD0qkAAAAAAAKSvQAAAAAAAsK1AAAAAAADcrkAAAAAAAECvQAAAAAAAfq1AAAAAAAAEsEA=",
           "dtype": "f8"
          },
          "sizemode": "area",
          "sizeref": 15.75,
          "symbol": "circle"
         },
         "mode": "markers",
         "name": "Chinstrap, Male",
         "scene": "scene",
         "showlegend": true,
         "type": "scatter3d",
         "x": {
          "bdata": "AAAAAACAaEAAAAAAACBoQAAAAAAAoGhAAAAAAACgaEAAAAAAAMBoQAAAAAAAQGhAAAAAAAAgaUAAAAAAACBpQAAAAAAAoGhAAAAAAABgaEAAAAAAAOBnQAAAAAAAIGhAAAAAAACgaEAAAAAAAABpQAAAAAAAoGlAAAAAAAAgaUAAAAAAAGBpQAAAAAAAYGhAAAAAAABAakAAAAAAAKBpQAAAAAAAQGpAAAAAAACAaEAAAAAAACBpQAAAAAAAgGpAAAAAAABgZ0AAAAAAACBpQAAAAAAAYGlAAAAAAACgaEAAAAAAAGBpQAAAAAAAQGlAAAAAAADAaUAAAAAAAOBpQAAAAAAAIGhAAAAAAABAakA=",
          "dtype": "f8"
         },
         "y": {
          "bdata": "AAAAAAB4rkAAAAAAAISsQAAAAAAAGq1AAAAAAABMrUAAAAAAAOisQAAAAAAAfq1AAAAAAACkr0AAAAAAAKSvQAAAAAAAyKlAAAAAAAAwsUAAAAAAAJCqQAAAAAAAsK1AAAAAAAA2sEAAAAAAALCtQAAAAAAAxrFAAAAAAADMsEAAAAAAAASwQAAAAAAAIKxAAAAAAADAskAAAAAAAJSxQAAAAAAA3K5AAAAAAAC8q0AAAAAAAGKxQAAAAAAAzLBAAAAAAABkqUAAAAAAANyuQAAAAAAApK9AAAAAAAD0qkAAAAAAAKSvQAAAAAAAsK1AAAAAAADcrkAAAAAAAECvQAAAAAAAfq1AAAAAAAAEsEA=",
          "dtype": "f8"
         },
         "z": {
          "bdata": "AAAAAAAASUBmZmZmZqZJQJqZmZmZWUpAZmZmZmamSUBmZmZmZqZJQJqZmZmZ2UlAAAAAAAAASkAAAAAAAEBJQGZmZmZmJklAmpmZmZmZSEAAAAAAAEBIQM3MzMzMTElAAAAAAAAASkAAAAAAAMBIQGZmZmZmZkpAmpmZmZkZS0AAAAAAAIBJQJqZmZmZ2UhAAAAAAAAASkAAAAAAAMBKQAAAAAAAgEhAMzMzMzNzSUBmZmZmZmZJQAAAAAAAgEhAAAAAAADASUAzMzMzM7NJQJqZmZmZWUlAmpmZmZkZSkBmZmZmZqZIQJqZmZmZGUlAMzMzMzPzSUBmZmZmZuZLQM3MzMzMzEhAZmZmZmZmSUA=",
          "dtype": "f8"
         }
        },
        {
         "hovertemplate": "species=Chinstrap<br>sex=Female<br>Nadadeira (mm)=%{x}<br>Peso (g)=%{marker.size}<br>Comprimento do bico (mm)=%{z}<extra></extra>",
         "legendgroup": "Chinstrap, Female",
         "marker": {
          "color": "#EF553B",
          "size": {
           "bdata": "AAAAAABYq0AAAAAAAIqrQAAAAAAA3K5AAAAAAABkqUAAAAAAADawQAAAAAAAsK1AAAAAAADorEAAAAAAAO6rQAAAAAAA6KxAAAAAAAD0qkAAAAAAACCsQAAAAAAAqKZAAAAAAADIqUAAAAAAAJCqQAAAAAAA6KxAAAAAAAAAqUAAAAAAACyqQAAAAAAAeK5AAAAAAAAUrkAAAAAAABilQAAAAAAAhKxAAAAAAABYq0AAAAAAALasQAAAAAAAkKpAAAAAAAC2rEAAAAAAAPqpQAAAAAAAIKxAAAAAAAAsqkAAAAAAAGSpQAAAAAAAiqtAAAAAAACErEAAAAAAAISsQAAAAAAAkKpAAAAAAAB+rUA=",
           "dtype": "f8"
          },
          "sizemode": "area",
          "sizeref": 15.75,
          "symbol": "diamond"
         },
         "mode": "markers",
         "name": "Chinstrap, Female",
         "scene": "scene",
         "showlegend": true,
         "type": "scatter3d",
         "x": {
          "bdata": "AAAAAAAAaEAAAAAAAIBnQAAAAAAAwGhAAAAAAABAZkAAAAAAAGBoQAAAAAAAIGhAAAAAAAAgZ0AAAAAAAMBnQAAAAAAAoGZAAAAAAADAZ0AAAAAAAKBmQAAAAAAAYGdAAAAAAABgaEAAAAAAAABpQAAAAAAA4GdAAAAAAABgZ0AAAAAAAGBnQAAAAAAA4GhAAAAAAABgaEAAAAAAAABoQAAAAAAAYGdAAAAAAACAaEAAAAAAAIBoQAAAAAAAwGdAAAAAAADAaEAAAAAAAOBoQAAAAAAAIGhAAAAAAABgZ0AAAAAAAOBnQAAAAAAAQGhAAAAAAACgZ0AAAAAAAGBoQAAAAAAAQGlAAAAAAADAaEA=",
          "dtype": "f8"
         },
         "y": {
          "bdata": "AAAAAABYq0AAAAAAAIqrQAAAAAAA3K5AAAAAAABkqUAAAAAAADawQAAAAAAAsK1AAAAAAADorEAAAAAAAO6rQAAAAAAA6KxAAAAAAAD0qkAAAAAAACCsQAAAAAAAqKZAAAAAAADIqUAAAAAAAJCqQAAAAAAA6KxAAAAAAAAAqUAAAAAAACyqQAAAAAAAeK5AAAAAAAAUrkAAAAAAABilQAAAAAAAhKxAAAAAAABYq0AAAAAAALasQAAAAAAAkKpAAAAAAAC2rEAAAAAAAPqpQAAAAAAAIKxAAAAAAAAsqkAAAAAAAGSpQAAAAAAAiqtAAAAAAACErEAAAAAAAISsQAAAAAAAkKpAAAAAAAB+rUA=",
          "dtype": "f8"
         },
         "z": {
          "bdata": "AAAAAABAR0AzMzMzM7NGQJqZmZmZmUZAzczMzMwMR0AAAAAAAABHQM3MzMzMTEdAAAAAAACAR0AzMzMzM/NGQAAAAAAAAE1AMzMzMzMzR0AzMzMzMzNFQJqZmZmZmUVAmpmZmZlZR0AAAAAAAEBJQDMzMzMzM0dAMzMzMzNzREAAAAAAAEBFQAAAAAAAwEdAzczMzMzMR0AzMzMzM3NHQJqZmZmZGUdAAAAAAADARkAzMzMzM3NJQM3MzMzMDElAZmZmZmbmSEDNzMzMzAxIQJqZmZmZ2UZAAAAAAABARUCamZmZmZlGQM3MzMzMzEZAZmZmZmZmR0CamZmZmdlGQAAAAAAAwEVAmpmZmZkZSUA=",
          "dtype": "f8"
         }
        },
        {
         "hovertemplate": "species=Gentoo<br>sex=Male<br>Nadadeira (mm)=%{x}<br>Peso (g)=%{marker.size}<br>Comprimento do bico (mm)=%{z}<extra></extra>",
         "legendgroup": "Gentoo, Male",
         "marker": {
          "color": "#00cc96",
          "size": {
           "bdata": "AAAAAABEtkAAAAAAAES2QAAAAAAAGLVAAAAAAABQtEAAAAAAAB60QAAAAAAArrVAAAAAAADatkAAAAAAANq2QAAAAAAAnLhAAAAAAADmtEAAAAAAAES2QAAAAAAAurNAAAAAAADss0AAAAAAABK2QAAAAAAArrVAAAAAAACCtEAAAAAAAKK3QAAAAAAAGLVAAAAAAACCtEAAAAAAAOa0QAAAAAAARLZAAAAAAACOskAAAAAAAK61QAAAAAAAGLVAAAAAAAC0tEAAAAAAALS0QAAAAAAAiLNAAAAAAAC6s0AAAAAAAIizQAAAAAAArrVAAAAAAAC0tEAAAAAAABK2QAAAAAAARLZAAAAAAACotkAAAAAAAK61QAAAAAAAiLNAAAAAAADss0AAAAAAAKi2QAAAAAAAcLdAAAAAAAA+t0AAAAAAAEq1QAAAAAAA5rRAAAAAAADgtUAAAAAAALS0QAAAAAAArrVAAAAAAAAYtUAAAAAAABK2QAAAAAAAULRAAAAAAAA9s0AAAAAAAIK0QAAAAAAA4LVAAAAAAAB8tUAAAAAAAHy1QAAAAAAAfLVAAAAAAAB8tUAAAAAAAD63QAAAAAAAfLVAAAAAAADatkAAAAAAAHC3QAAAAAAAdrZAAAAAAAAYtUA=",
           "dtype": "f8"
          },
          "sizemode": "area",
          "sizeref": 15.75,
          "symbol": "circle"
         },
         "mode": "markers",
         "name": "Gentoo, Male",
         "scene": "scene",
         "showlegend": true,
         "type": "scatter3d",
         "x": {
          "bdata": "AAAAAADAbEAAAAAAAEBrQAAAAAAA4GpAAAAAAABga0AAAAAAAOBqQAAAAAAAAGtAAAAAAACgakAAAAAAACBrQAAAAAAAoGtAAAAAAADAa0AAAAAAAEBrQAAAAAAA4GpAAAAAAADgakAAAAAAAOBqQAAAAAAAgGtAAAAAAADAa0AAAAAAAMBsQAAAAAAAgGtAAAAAAABga0AAAAAAAABqQAAAAAAAIGxAAAAAAAAAa0AAAAAAAMBrQAAAAAAAIGxAAAAAAADgakAAAAAAAIBrQAAAAAAAIGxAAAAAAACAa0AAAAAAAIBrQAAAAAAAAGxAAAAAAACga0AAAAAAAOBsQAAAAAAAwGxAAAAAAACgbEAAAAAAAOBrQAAAAAAAoGtAAAAAAACga0AAAAAAAMBsQAAAAAAAgGtAAAAAAADga0AAAAAAAKBrQAAAAAAAAGxAAAAAAACAbEAAAAAAAEBrQAAAAAAAwGxAAAAAAACAbEAAAAAAAABsQAAAAAAAQGxAAAAAAAAAa0AAAAAAACBsQAAAAAAAgGxAAAAAAACAbEAAAAAAAOBqQAAAAAAAYGtAAAAAAAAgakAAAAAAAKBsQAAAAAAAwGxAAAAAAADAbEAAAAAAAMBrQAAAAAAAwGtAAAAAAACgakA=",
          "dtype": "f8"
         },
         "y": {
          "bdata": "AAAAAABEtkAAAAAAAES2QAAAAAAAGLVAAAAAAABQtEAAAAAAAB60QAAAAAAArrVAAAAAAADatkAAAAAAANq2QAAAAAAAnLhAAAAAAADmtEAAAAAAAES2QAAAAAAAurNAAAAAAADss0AAAAAAABK2QAAAAAAArrVAAAAAAACCtEAAAAAAAKK3QAAAAAAAGLVAAAAAAACCtEAAAAAAAOa0QAAAAAAARLZAAAAAAACOskAAAAAAAK61QAAAAAAAGLVAAAAAAAC0tEAAAAAAALS0QAAAAAAAiLNAAAAAAAC6s0AAAAAAAIizQAAAAAAArrVAAAAAAAC0tEAAAAAAABK2QAAAAAAARLZAAAAAAACotkAAAAAAAK61QAAAAAAAiLNAAAAAAADss0AAAAAAAKi2QAAAAAAAcLdAAAAAAAA+t0AAAAAAAEq1QAAAAAAA5rRAAAAAAADgtUAAAAAAALS0QAAAAAAArrVAAAAAAAAYtUAAAAAAABK2QAAAAAAAULRAAAAAAAA9s0AAAAAAAIK0QAAAAAAA4LVAAAAAAAB8tUAAAAAAAHy1QAAAAAAAfLVAAAAAAAB8tUAAAAAAAD63QAAAAAAAfLVAAAAAAADatkAAAAAAAHC3QAAAAAAAdrZAAAAAAAAYtUA=",
          "dtype": "f8"
         },
         "z": {
          "bdata": "AAAAAAAASUAAAAAAAABJQM3MzMzMzEdAmpmZmZlZR0BmZmZmZmZHQAAAAAAAgEhAMzMzMzMzSEBmZmZmZqZIQJqZmZmZmUhAmpmZmZlZSECamZmZmRlJQGZmZmZmJkdAzczMzMwMR0BmZmZmZuZHQAAAAAAAAElAZmZmZmamR0DNzMzMzMxNQDMzMzMzM0hAMzMzMzMzRkCamZmZmVlIQM3MzMzMzEhAzczMzMzMSEAAAAAAAEBJQAAAAAAAQElAmpmZmZmZRkAAAAAAAEBIQM3MzMzMDElAAAAAAACARkAAAAAAAMBGQDMzMzMzM0lAmpmZmZkZR0BmZmZmZiZLQGZmZmZm5khAAAAAAADASECamZmZmVlJQDMzMzMzM0dAmpmZmZkZSEDNzMzMzExIQM3MzMzMjElAmpmZmZmZRkAAAAAAAEBKQAAAAAAAAElAZmZmZmZmSUBmZmZmZqZJQM3MzMzMDEpAmpmZmZkZSkAAAAAAAMBIQGZmZmZmZklAMzMzMzOzSEDNzMzMzIxJQDMzMzMz80tAzczMzMyMSEBmZmZmZmZHQDMzMzMzs0pAzczMzMwMSEBmZmZmZuZIQAAAAAAAwElAzczMzMyMS0BmZmZmZmZIQDMzMzMzM0lAMzMzMzPzSEA=",
          "dtype": "f8"
         }
        },
        {
         "hovertemplate": "species=Gentoo<br>sex=Female<br>Nadadeira (mm)=%{x}<br>Peso (g)=%{marker.size}<br>Comprimento do bico (mm)=%{z}<extra></extra>",
         "legendgroup": "Gentoo, Female",
         "marker": {
          "color": "#00cc96",
          "size": {
           "bdata": "AAAAAACUsUAAAAAAAGKxQAAAAAAAxrFAAAAAAADAskAAAAAAADCxQAAAAAAAKrJAAAAAAAAqskAAAAAAAGiwQAAAAAAANrBAAAAAAADAskAAAAAAAIizQAAAAAAAMLFAAAAAAACIs0AAAAAAAPixQAAAAAAAXLJAAAAAAAC6s0AAAAAAAB60QAAAAAAAVrNAAAAAAAD+sEAAAAAAANyuQAAAAAAAzLBAAAAAAAAks0AAAAAAAGiwQAAAAAAA7LNAAAAAAADyskAAAAAAADCxQAAAAAAAJLNAAAAAAADMsEAAAAAAAGKxQAAAAAAAaLBAAAAAAAAwsUAAAAAAAFyyQAAAAAAAXLJAAAAAAACOskAAAAAAAFC0QAAAAAAAXLJAAAAAAAD4sUAAAAAAAI6yQAAAAAAAEbJAAAAAAAB1skAAAAAAAI6yQAAAAAAA+LFAAAAAAAALs0AAAAAAAFazQAAAAAAAjrJAAAAAAADyskAAAAAAAAuzQAAAAAAAEbJAAAAAAADyskAAAAAAAG+zQAAAAAAAXLJAAAAAAADfsUAAAAAAAIizQAAAAAAAKrJAAAAAAAAXsUAAAAAAAD2zQAAAAAAA8rJAAAAAAABQtEA=",
           "dtype": "f8"
          },
          "sizemode": "area",
          "sizeref": 15.75,
          "symbol": "diamond"
         },
         "mode": "markers",
         "name": "Gentoo, Female",
         "scene": "scene",
         "showlegend": true,
         "type": "scatter3d",
         "x": {
          "bdata": "AAAAAABgakAAAAAAAEBqQAAAAAAAQGpAAAAAAABgakAAAAAAACBqQAAAAAAAwGpAAAAAAADAakAAAAAAAEBqQAAAAAAAQGpAAAAAAAAgakAAAAAAAOBqQAAAAAAAoGpAAAAAAADgakAAAAAAAEBqQAAAAAAAIGpAAAAAAADgaUAAAAAAAIBrQAAAAAAAoGpAAAAAAAAAakAAAAAAAABqQAAAAAAAQGpAAAAAAAAga0AAAAAAAEBqQAAAAAAAoGpAAAAAAABAakAAAAAAAEBqQAAAAAAAIGtAAAAAAAAAakAAAAAAAABqQAAAAAAAAGpAAAAAAADAakAAAAAAAGBrQAAAAAAAgGtAAAAAAAAAa0AAAAAAACBrQAAAAAAAAGtAAAAAAAAgakAAAAAAAOBqQAAAAAAAgGpAAAAAAACAakAAAAAAAIBqQAAAAAAAQGtAAAAAAACAakAAAAAAAEBrQAAAAAAAgGpAAAAAAADAakAAAAAAAMBrQAAAAAAAYGlAAAAAAABga0AAAAAAAOBqQAAAAAAAQGpAAAAAAAAAakAAAAAAAABrQAAAAAAAoGpAAAAAAAAga0AAAAAAAMBqQAAAAAAA4GpAAAAAAACAakA=",
          "dtype": "f8"
         },
         "y": {
          "bdata": "AAAAAACUsUAAAAAAAGKxQAAAAAAAxrFAAAAAAADAskAAAAAAADCxQAAAAAAAKrJAAAAAAAAqskAAAAAAAGiwQAAAAAAANrBAAAAAAADAskAAAAAAAIizQAAAAAAAMLFAAAAAAACIs0AAAAAAAPixQAAAAAAAXLJAAAAAAAC6s0AAAAAAAB60QAAAAAAAVrNAAAAAAAD+sEAAAAAAANyuQAAAAAAAzLBAAAAAAAAks0AAAAAAAGiwQAAAAAAA7LNAAAAAAADyskAAAAAAADCxQAAAAAAAJLNAAAAAAADMsEAAAAAAAGKxQAAAAAAAaLBAAAAAAAAwsUAAAAAAAFyyQAAAAAAAXLJAAAAAAACOskAAAAAAAFC0QAAAAAAAXLJAAAAAAAD4sUAAAAAAAI6yQAAAAAAAEbJAAAAAAAB1skAAAAAAAI6yQAAAAAAA+LFAAAAAAAALs0AAAAAAAFazQAAAAAAAjrJAAAAAAADyskAAAAAAAAuzQAAAAAAAEbJAAAAAAADyskAAAAAAAG+zQAAAAAAAXLJAAAAAAADfsUAAAAAAAIizQAAAAAAAKrJAAAAAAAAXsUAAAAAAAD2zQAAAAAAA8rJAAAAAAABQtEA=",
          "dtype": "f8"
         },
         "z": {
          "bdata": "zczMzMwMR0CamZmZmVlIQAAAAAAAQEdAMzMzMzOzRkBmZmZmZqZFQDMzMzMzc0RAAAAAAADARkBmZmZmZuZGQAAAAAAAAEVAmpmZmZkZR0DNzMzMzIxGQAAAAAAAQEdAMzMzMzNzRUCamZmZmRlIQGZmZmZmZkVAzczMzMyMRkDNzMzMzIxIQM3MzMzMTEVAAAAAAAAARkCamZmZmVlFQGZmZmZmpkZAzczMzMzMRUAAAAAAAMBGQDMzMzMzc0ZAzczMzMxMR0DNzMzMzIxGQAAAAAAAQEdAZmZmZmbmRUCamZmZmZlFQGZmZmZmpkZAmpmZmZnZRkBmZmZmZuZGQAAAAAAAwEVAmpmZmZnZR0AAAAAAAEBHQDMzMzMzM0dAAAAAAADAR0CamZmZmZlGQM3MzMzMjEhAMzMzMzOzR0AzMzMzM3NGQDMzMzMzs0VAAAAAAADAR0AAAAAAAMBHQAAAAAAAwEZAAAAAAABARkAzMzMzM3NHQDMzMzMzM0hAAAAAAABASECamZmZmZlHQJqZmZmZ2URAZmZmZmamRUAAAAAAAEBJQAAAAAAAwEVAmpmZmZkZR0CamZmZmZlHQGZmZmZmZkdAmpmZmZmZRkA=",
          "dtype": "f8"
         }
        }
       ],
       "layout": {
        "height": 800,
        "legend": {
         "itemsizing": "constant",
         "title": {
          "text": "Espécie"
         },
         "tracegroupgap": 0
        },
        "scene": {
         "domain": {
          "x": [
           0,
           1
          ],
          "y": [
           0,
           1
          ]
         },
         "xaxis": {
          "title": {
           "text": "Nadadeira (mm)"
          }
         },
         "yaxis": {
          "title": {
           "text": "Peso (g)"
          }
         },
         "zaxis": {
          "title": {
           "text": "Comprimento do bico (mm)"
          }
         }
        },
        "template": {
         "data": {
          "bar": [
           {
            "error_x": {
             "color": "#2a3f5f"
            },
            "error_y": {
             "color": "#2a3f5f"
            },
            "marker": {
             "line": {
              "color": "#E5ECF6",
              "width": 0.5
             },
             "pattern": {
              "fillmode": "overlay",
              "size": 10,
              "solidity": 0.2
             }
            },
            "type": "bar"
           }
          ],
          "barpolar": [
           {
            "marker": {
             "line": {
              "color": "#E5ECF6",
              "width": 0.5
             },
             "pattern": {
              "fillmode": "overlay",
              "size": 10,
              "solidity": 0.2
             }
            },
            "type": "barpolar"
           }
          ],
          "carpet": [
           {
            "aaxis": {
             "endlinecolor": "#2a3f5f",
             "gridcolor": "white",
             "linecolor": "white",
             "minorgridcolor": "white",
             "startlinecolor": "#2a3f5f"
            },
            "baxis": {
             "endlinecolor": "#2a3f5f",
             "gridcolor": "white",
             "linecolor": "white",
             "minorgridcolor": "white",
             "startlinecolor": "#2a3f5f"
            },
            "type": "carpet"
           }
          ],
          "choropleth": [
           {
            "colorbar": {
             "outlinewidth": 0,
             "ticks": ""
            },
            "type": "choropleth"
           }
          ],
          "contour": [
           {
            "colorbar": {
             "outlinewidth": 0,
             "ticks": ""
            },
            "colorscale": [
             [
              0,
              "#0d0887"
             ],
             [
              0.1111111111111111,
              "#46039f"
             ],
             [
              0.2222222222222222,
              "#7201a8"
             ],
             [
              0.3333333333333333,
              "#9c179e"
             ],
             [
              0.4444444444444444,
              "#bd3786"
             ],
             [
              0.5555555555555556,
              "#d8576b"
             ],
             [
              0.6666666666666666,
              "#ed7953"
             ],
             [
              0.7777777777777778,
              "#fb9f3a"
             ],
             [
              0.8888888888888888,
              "#fdca26"
             ],
             [
              1,
              "#f0f921"
             ]
            ],
            "type": "contour"
           }
          ],
          "contourcarpet": [
           {
            "colorbar": {
             "outlinewidth": 0,
             "ticks": ""
            },
            "type": "contourcarpet"
           }
          ],
          "heatmap": [
           {
            "colorbar": {
             "outlinewidth": 0,
             "ticks": ""
            },
            "colorscale": [
             [
              0,
              "#0d0887"
             ],
             [
              0.1111111111111111,
              "#46039f"
             ],
             [
              0.2222222222222222,
              "#7201a8"
             ],
             [
              0.3333333333333333,
              "#9c179e"
             ],
             [
              0.4444444444444444,
              "#bd3786"
             ],
             [
              0.5555555555555556,
              "#d8576b"
             ],
             [
              0.6666666666666666,
              "#ed7953"
             ],
             [
              0.7777777777777778,
              "#fb9f3a"
             ],
             [
              0.8888888888888888,
              "#fdca26"
             ],
             [
              1,
              "#f0f921"
             ]
            ],
            "type": "heatmap"
           }
          ],
          "histogram": [
           {
            "marker": {
             "pattern": {
              "fillmode": "overlay",
              "size": 10,
              "solidity": 0.2
             }
            },
            "type": "histogram"
           }
          ],
          "histogram2d": [
           {
            "colorbar": {
             "outlinewidth": 0,
             "ticks": ""
            },
            "colorscale": [
             [
              0,
              "#0d0887"
             ],
             [
              0.1111111111111111,
              "#46039f"
             ],
             [
              0.2222222222222222,
              "#7201a8"
             ],
             [
              0.3333333333333333,
              "#9c179e"
             ],
             [
              0.4444444444444444,
              "#bd3786"
             ],
             [
              0.5555555555555556,
              "#d8576b"
             ],
             [
              0.6666666666666666,
              "#ed7953"
             ],
             [
              0.7777777777777778,
              "#fb9f3a"
             ],
             [
              0.8888888888888888,
              "#fdca26"
             ],
             [
              1,
              "#f0f921"
             ]
            ],
            "type": "histogram2d"
           }
          ],
          "histogram2dcontour": [
           {
            "colorbar": {
             "outlinewidth": 0,
             "ticks": ""
            },
            "colorscale": [
             [
              0,
              "#0d0887"
             ],
             [
              0.1111111111111111,
              "#46039f"
             ],
             [
              0.2222222222222222,
              "#7201a8"
             ],
             [
              0.3333333333333333,
              "#9c179e"
             ],
             [
              0.4444444444444444,
              "#bd3786"
             ],
             [
              0.5555555555555556,
              "#d8576b"
             ],
             [
              0.6666666666666666,
              "#ed7953"
             ],
             [
              0.7777777777777778,
              "#fb9f3a"
             ],
             [
              0.8888888888888888,
              "#fdca26"
             ],
             [
              1,
              "#f0f921"
             ]
            ],
            "type": "histogram2dcontour"
           }
          ],
          "mesh3d": [
           {
            "colorbar": {
             "outlinewidth": 0,
             "ticks": ""
            },
            "type": "mesh3d"
           }
          ],
          "parcoords": [
           {
            "line": {
             "colorbar": {
              "outlinewidth": 0,
              "ticks": ""
             }
            },
            "type": "parcoords"
           }
          ],
          "pie": [
           {
            "automargin": true,
            "type": "pie"
           }
          ],
          "scatter": [
           {
            "fillpattern": {
             "fillmode": "overlay",
             "size": 10,
             "solidity": 0.2
            },
            "type": "scatter"
           }
          ],
          "scatter3d": [
           {
            "line": {
             "colorbar": {
              "outlinewidth": 0,
              "ticks": ""
             }
            },
            "marker": {
             "colorbar": {
              "outlinewidth": 0,
              "ticks": ""
             }
            },
            "type": "scatter3d"
           }
          ],
          "scattercarpet": [
           {
            "marker": {
             "colorbar": {
              "outlinewidth": 0,
              "ticks": ""
             }
            },
            "type": "scattercarpet"
           }
          ],
          "scattergeo": [
           {
            "marker": {
             "colorbar": {
              "outlinewidth": 0,
              "ticks": ""
             }
            },
            "type": "scattergeo"
           }
          ],
          "scattergl": [
           {
            "marker": {
             "colorbar": {
              "outlinewidth": 0,
              "ticks": ""
             }
            },
            "type": "scattergl"
           }
          ],
          "scattermap": [
           {
            "marker": {
             "colorbar": {
              "outlinewidth": 0,
              "ticks": ""
             }
            },
            "type": "scattermap"
           }
          ],
          "scattermapbox": [
           {
            "marker": {
             "colorbar": {
              "outlinewidth": 0,
              "ticks": ""
             }
            },
            "type": "scattermapbox"
           }
          ],
          "scatterpolar": [
           {
            "marker": {
             "colorbar": {
              "outlinewidth": 0,
              "ticks": ""
             }
            },
            "type": "scatterpolar"
           }
          ],
          "scatterpolargl": [
           {
            "marker": {
             "colorbar": {
              "outlinewidth": 0,
              "ticks": ""
             }
            },
            "type": "scatterpolargl"
           }
          ],
          "scatterternary": [
           {
            "marker": {
             "colorbar": {
              "outlinewidth": 0,
              "ticks": ""
             }
            },
            "type": "scatterternary"
           }
          ],
          "surface": [
           {
            "colorbar": {
             "outlinewidth": 0,
             "ticks": ""
            },
            "colorscale": [
             [
              0,
              "#0d0887"
             ],
             [
              0.1111111111111111,
              "#46039f"
             ],
             [
              0.2222222222222222,
              "#7201a8"
             ],
             [
              0.3333333333333333,
              "#9c179e"
             ],
             [
              0.4444444444444444,
              "#bd3786"
             ],
             [
              0.5555555555555556,
              "#d8576b"
             ],
             [
              0.6666666666666666,
              "#ed7953"
             ],
             [
              0.7777777777777778,
              "#fb9f3a"
             ],
             [
              0.8888888888888888,
              "#fdca26"
             ],
             [
              1,
              "#f0f921"
             ]
            ],
            "type": "surface"
           }
          ],
          "table": [
           {
            "cells": {
             "fill": {
              "color": "#EBF0F8"
             },
             "line": {
              "color": "white"
             }
            },
            "header": {
             "fill": {
              "color": "#C8D4E3"
             },
             "line": {
              "color": "white"
             }
            },
            "type": "table"
           }
          ]
         },
         "layout": {
          "annotationdefaults": {
           "arrowcolor": "#2a3f5f",
           "arrowhead": 0,
           "arrowwidth": 1
          },
          "autotypenumbers": "strict",
          "coloraxis": {
           "colorbar": {
            "outlinewidth": 0,
            "ticks": ""
           }
          },
          "colorscale": {
           "diverging": [
            [
             0,
             "#8e0152"
            ],
            [
             0.1,
             "#c51b7d"
            ],
            [
             0.2,
             "#de77ae"
            ],
            [
             0.3,
             "#f1b6da"
            ],
            [
             0.4,
             "#fde0ef"
            ],
            [
             0.5,
             "#f7f7f7"
            ],
            [
             0.6,
             "#e6f5d0"
            ],
            [
             0.7,
             "#b8e186"
            ],
            [
             0.8,
             "#7fbc41"
            ],
            [
             0.9,
             "#4d9221"
            ],
            [
             1,
             "#276419"
            ]
           ],
           "sequential": [
            [
             0,
             "#0d0887"
            ],
            [
             0.1111111111111111,
             "#46039f"
            ],
            [
             0.2222222222222222,
             "#7201a8"
            ],
            [
             0.3333333333333333,
             "#9c179e"
            ],
            [
             0.4444444444444444,
             "#bd3786"
            ],
            [
             0.5555555555555556,
             "#d8576b"
            ],
            [
             0.6666666666666666,
             "#ed7953"
            ],
            [
             0.7777777777777778,
             "#fb9f3a"
            ],
            [
             0.8888888888888888,
             "#fdca26"
            ],
            [
             1,
             "#f0f921"
            ]
           ],
           "sequentialminus": [
            [
             0,
             "#0d0887"
            ],
            [
             0.1111111111111111,
             "#46039f"
            ],
            [
             0.2222222222222222,
             "#7201a8"
            ],
            [
             0.3333333333333333,
             "#9c179e"
            ],
            [
             0.4444444444444444,
             "#bd3786"
            ],
            [
             0.5555555555555556,
             "#d8576b"
            ],
            [
             0.6666666666666666,
             "#ed7953"
            ],
            [
             0.7777777777777778,
             "#fb9f3a"
            ],
            [
             0.8888888888888888,
             "#fdca26"
            ],
            [
             1,
             "#f0f921"
            ]
           ]
          },
          "colorway": [
           "#636efa",
           "#EF553B",
           "#00cc96",
           "#ab63fa",
           "#FFA15A",
           "#19d3f3",
           "#FF6692",
           "#B6E880",
           "#FF97FF",
           "#FECB52"
          ],
          "font": {
           "color": "#2a3f5f"
          },
          "geo": {
           "bgcolor": "white",
           "lakecolor": "white",
           "landcolor": "#E5ECF6",
           "showlakes": true,
           "showland": true,
           "subunitcolor": "white"
          },
          "hoverlabel": {
           "align": "left"
          },
          "hovermode": "closest",
          "mapbox": {
           "style": "light"
          },
          "paper_bgcolor": "white",
          "plot_bgcolor": "#E5ECF6",
          "polar": {
           "angularaxis": {
            "gridcolor": "white",
            "linecolor": "white",
            "ticks": ""
           },
           "bgcolor": "#E5ECF6",
           "radialaxis": {
            "gridcolor": "white",
            "linecolor": "white",
            "ticks": ""
           }
          },
          "scene": {
           "xaxis": {
            "backgroundcolor": "#E5ECF6",
            "gridcolor": "white",
            "gridwidth": 2,
            "linecolor": "white",
            "showbackground": true,
            "ticks": "",
            "zerolinecolor": "white"
           },
           "yaxis": {
            "backgroundcolor": "#E5ECF6",
            "gridcolor": "white",
            "gridwidth": 2,
            "linecolor": "white",
            "showbackground": true,
            "ticks": "",
            "zerolinecolor": "white"
           },
           "zaxis": {
            "backgroundcolor": "#E5ECF6",
            "gridcolor": "white",
            "gridwidth": 2,
            "linecolor": "white",
            "showbackground": true,
            "ticks": "",
            "zerolinecolor": "white"
           }
          },
          "shapedefaults": {
           "line": {
            "color": "#2a3f5f"
           }
          },
          "ternary": {
           "aaxis": {
            "gridcolor": "white",
            "linecolor": "white",
            "ticks": ""
           },
           "baxis": {
            "gridcolor": "white",
            "linecolor": "white",
            "ticks": ""
           },
           "bgcolor": "#E5ECF6",
           "caxis": {
            "gridcolor": "white",
            "linecolor": "white",
            "ticks": ""
           }
          },
          "title": {
           "x": 0.05
          },
          "xaxis": {
           "automargin": true,
           "gridcolor": "white",
           "linecolor": "white",
           "ticks": "",
           "title": {
            "standoff": 15
           },
           "zerolinecolor": "white",
           "zerolinewidth": 2
          },
          "yaxis": {
           "automargin": true,
           "gridcolor": "white",
           "linecolor": "white",
           "ticks": "",
           "title": {
            "standoff": 15
           },
           "zerolinecolor": "white",
           "zerolinewidth": 2
          }
         }
        },
        "title": {
         "text": "Gráfico 3D: Nadadeira × Peso × Comprimento do Bico"
        },
        "width": 1000
       }
      }
     },
     "metadata": {},
     "output_type": "display_data"
    }
   ],
   "source": [
    "import plotly.express as px\n",
    "import seaborn as sns\n",
    "\n",
    "# Carregar dataset\n",
    "penguins = sns.load_dataset(\"penguins\")\n",
    "penguins = penguins.dropna(subset=['flipper_length_mm', 'body_mass_g', 'bill_length_mm', 'species', 'sex'])\n",
    "\n",
    "# Gráfico 3D interativo\n",
    "fig = px.scatter_3d(\n",
    "    penguins,\n",
    "    x=\"flipper_length_mm\",\n",
    "    y=\"body_mass_g\",\n",
    "    z=\"bill_length_mm\",\n",
    "    color=\"species\",\n",
    "    symbol=\"sex\",\n",
    "    size=\"body_mass_g\",\n",
    "    title=\"Gráfico 3D: Nadadeira × Peso × Comprimento do Bico\",\n",
    "    labels={\n",
    "        \"flipper_length_mm\": \"Nadadeira (mm)\",\n",
    "        \"body_mass_g\": \"Peso (g)\",\n",
    "        \"bill_length_mm\": \"Comprimento do bico (mm)\"\n",
    "    }\n",
    ")\n",
    "\n",
    "# Aumentar tamanho do gráfico\n",
    "fig.update_layout(\n",
    "    width=1000,\n",
    "    height=800,\n",
    "    scene=dict(\n",
    "        xaxis_title='Nadadeira (mm)',\n",
    "        yaxis_title='Peso (g)',\n",
    "        zaxis_title='Comprimento do bico (mm)'\n",
    "    ),\n",
    "    legend_title='Espécie'\n",
    ")\n",
    "\n",
    "fig.show()\n"
   ]
  },
  {
   "cell_type": "markdown",
   "id": "9ad99cfc-08c9-4361-8d4e-32bce4a3d29b",
   "metadata": {},
   "source": [
    "### Analise descritiva \n",
    "\n",
    "O que cada linha significa\n",
    "\n",
    "count → quantidade de valores não nulos na coluna.\n",
    "\n",
    "mean → média aritmética dos valores.\n",
    "\n",
    "std → desvio padrão (medida de dispersão).\n",
    "\n",
    "min → valor mínimo.\n",
    "\n",
    "25% / 50% / 75% → quartis, mostrando a distribuição dos dados.\n",
    "\n",
    "max → valor máximo.\n"
   ]
  },
  {
   "cell_type": "code",
   "execution_count": 121,
   "id": "662b200b-fbc7-4cf1-a726-d7865ec4474b",
   "metadata": {},
   "outputs": [
    {
     "data": {
      "text/html": [
       "<div>\n",
       "<style scoped>\n",
       "    .dataframe tbody tr th:only-of-type {\n",
       "        vertical-align: middle;\n",
       "    }\n",
       "\n",
       "    .dataframe tbody tr th {\n",
       "        vertical-align: top;\n",
       "    }\n",
       "\n",
       "    .dataframe thead th {\n",
       "        text-align: right;\n",
       "    }\n",
       "</style>\n",
       "<table border=\"1\" class=\"dataframe\">\n",
       "  <thead>\n",
       "    <tr style=\"text-align: right;\">\n",
       "      <th></th>\n",
       "      <th>bill_length_mm</th>\n",
       "      <th>bill_depth_mm</th>\n",
       "      <th>flipper_length_mm</th>\n",
       "      <th>body_mass_g</th>\n",
       "    </tr>\n",
       "  </thead>\n",
       "  <tbody>\n",
       "    <tr>\n",
       "      <th>count</th>\n",
       "      <td>333.000000</td>\n",
       "      <td>333.000000</td>\n",
       "      <td>333.000000</td>\n",
       "      <td>333.000000</td>\n",
       "    </tr>\n",
       "    <tr>\n",
       "      <th>mean</th>\n",
       "      <td>43.992793</td>\n",
       "      <td>17.164865</td>\n",
       "      <td>200.966967</td>\n",
       "      <td>4207.057057</td>\n",
       "    </tr>\n",
       "    <tr>\n",
       "      <th>std</th>\n",
       "      <td>5.468668</td>\n",
       "      <td>1.969235</td>\n",
       "      <td>14.015765</td>\n",
       "      <td>805.215802</td>\n",
       "    </tr>\n",
       "    <tr>\n",
       "      <th>min</th>\n",
       "      <td>32.100000</td>\n",
       "      <td>13.100000</td>\n",
       "      <td>172.000000</td>\n",
       "      <td>2700.000000</td>\n",
       "    </tr>\n",
       "    <tr>\n",
       "      <th>25%</th>\n",
       "      <td>39.500000</td>\n",
       "      <td>15.600000</td>\n",
       "      <td>190.000000</td>\n",
       "      <td>3550.000000</td>\n",
       "    </tr>\n",
       "    <tr>\n",
       "      <th>50%</th>\n",
       "      <td>44.500000</td>\n",
       "      <td>17.300000</td>\n",
       "      <td>197.000000</td>\n",
       "      <td>4050.000000</td>\n",
       "    </tr>\n",
       "    <tr>\n",
       "      <th>75%</th>\n",
       "      <td>48.600000</td>\n",
       "      <td>18.700000</td>\n",
       "      <td>213.000000</td>\n",
       "      <td>4775.000000</td>\n",
       "    </tr>\n",
       "    <tr>\n",
       "      <th>max</th>\n",
       "      <td>59.600000</td>\n",
       "      <td>21.500000</td>\n",
       "      <td>231.000000</td>\n",
       "      <td>6300.000000</td>\n",
       "    </tr>\n",
       "  </tbody>\n",
       "</table>\n",
       "</div>"
      ],
      "text/plain": [
       "       bill_length_mm  bill_depth_mm  flipper_length_mm  body_mass_g\n",
       "count      333.000000     333.000000         333.000000   333.000000\n",
       "mean        43.992793      17.164865         200.966967  4207.057057\n",
       "std          5.468668       1.969235          14.015765   805.215802\n",
       "min         32.100000      13.100000         172.000000  2700.000000\n",
       "25%         39.500000      15.600000         190.000000  3550.000000\n",
       "50%         44.500000      17.300000         197.000000  4050.000000\n",
       "75%         48.600000      18.700000         213.000000  4775.000000\n",
       "max         59.600000      21.500000         231.000000  6300.000000"
      ]
     },
     "execution_count": 121,
     "metadata": {},
     "output_type": "execute_result"
    }
   ],
   "source": [
    "penguins.describe()\n"
   ]
  },
  {
   "cell_type": "code",
   "execution_count": null,
   "id": "1b7f84ee-7eec-4afb-9b16-99eccba1462a",
   "metadata": {},
   "outputs": [],
   "source": [
    "\n",
    "\n"
   ]
  }
 ],
 "metadata": {
  "kernelspec": {
   "display_name": "Python 3 (ipykernel)",
   "language": "python",
   "name": "python3"
  },
  "language_info": {
   "codemirror_mode": {
    "name": "ipython",
    "version": 3
   },
   "file_extension": ".py",
   "mimetype": "text/x-python",
   "name": "python",
   "nbconvert_exporter": "python",
   "pygments_lexer": "ipython3",
   "version": "3.12.6"
  }
 },
 "nbformat": 4,
 "nbformat_minor": 5
}
